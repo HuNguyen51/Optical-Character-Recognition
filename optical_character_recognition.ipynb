{
  "cells": [
    {
      "attachments": {},
      "cell_type": "markdown",
      "metadata": {},
      "source": [
        "# GIỚI THIỆU VỀ OCR\n",
        "OCR là viết tắt của cụm từ \"Optical Character Recognition\", được dùng để chỉ công nghệ nhận dạng ký tự quang học. Đây là một công nghệ cho phép máy tính quét, phân tích và chuyển đổi các hình ảnh chứa ký tự, chữ viết tay, số và các ký hiệu thành văn bản có thể chỉnh sửa được. OCR có thể được sử dụng để chuyển đổi các tài liệu được in hoặc viết tay thành định dạng kỹ thuật số, giúp cho việc lưu trữ, truyền tải và xử lý tài liệu dễ dàng hơn. OCR cũng có thể được sử dụng để giúp cho các ứng dụng nhận dạng chữ viết tay, như viết chữ trên bảng trắng hoặc nhận dạng chữ trong ảnh."
      ]
    },
    {
      "attachments": {},
      "cell_type": "markdown",
      "metadata": {
        "id": "L3gJ8P-Nvu2M"
      },
      "source": [
        "# Import module"
      ]
    },
    {
      "cell_type": "code",
      "execution_count": 2,
      "metadata": {
        "execution": {
          "iopub.execute_input": "2023-04-16T02:32:21.156842Z",
          "iopub.status.busy": "2023-04-16T02:32:21.156357Z",
          "iopub.status.idle": "2023-04-16T02:32:21.166436Z",
          "shell.execute_reply": "2023-04-16T02:32:21.165438Z",
          "shell.execute_reply.started": "2023-04-16T02:32:21.156806Z"
        },
        "id": "djAXuy-G2ShL",
        "trusted": true
      },
      "outputs": [],
      "source": [
        "import pandas as pd\n",
        "import tensorflow as tf\n",
        "import numpy as np\n",
        "import os\n",
        "import json\n",
        "import sys"
      ]
    },
    {
      "cell_type": "code",
      "execution_count": 3,
      "metadata": {
        "id": "UNknYyW6AR9E"
      },
      "outputs": [],
      "source": [
        "# Dùng để in ra tiến trình xử lý\n",
        "def print_progress(index, total, text):\n",
        "    sys.stdout.write('\\r')\n",
        "    sys.stdout.write('processing ' + text + ' ')\n",
        "    sys.stdout.write(str(round(index*100/total, 1))+'%')\n",
        "    sys.stdout.flush()"
      ]
    },
    {
      "cell_type": "code",
      "execution_count": 4,
      "metadata": {
        "id": "2XPbReOaposw"
      },
      "outputs": [],
      "source": [
        "import cv2\n",
        "import matplotlib.pyplot as plt\n",
        "\n",
        "# hàm dùng để show ảnh\n",
        "def cv2_imshow(bgr_img):\n",
        "    img = cv2.cvtColor(bgr_img, cv2.COLOR_BGR2RGB)\n",
        "    plt.imshow(img)\n",
        "    plt.show()\n",
        "def show_from_sub_img(sub_imgs):\n",
        "    img = sub_imgs[0]\n",
        "    for i in range(1, sub_imgs.shape[0]):\n",
        "        img = np.concatenate([img, sub_imgs[i]], axis=1)\n",
        "    plt.imshow(img)\n",
        "    plt.show()\n",
        "\n",
        "# đọc và chuyển ảnh thành nhị phân\n",
        "def read_convert_img(filename):\n",
        "    img = cv2.imread(filename)\n",
        "    gray = cv2.cvtColor(img, cv2.COLOR_BGR2GRAY)\n",
        "    _, binary = cv2.threshold(gray, 200, 255, cv2.THRESH_BINARY)\n",
        "    return 255-binary\n",
        "\n",
        "# đưa ảnh về thành size chuẩn height\n",
        "def resize(img, expected_height=32, min_width=32, max_width=512):\n",
        "    h, w = img.shape\n",
        "\n",
        "    new_w = int(expected_height * float(w) / float(h))\n",
        "    new_w = max(new_w, min_width)\n",
        "    new_w = max(new_w, max_width)\n",
        "\n",
        "    img = cv2.resize(img, (new_w, expected_height), interpolation = cv2.INTER_AREA)\n",
        "    return img\n",
        "\n",
        "# xóa khoảng trắng bên trái và bên phải\n",
        "def strip_img(img):\n",
        "    h, w = img.shape\n",
        "    # duyệt từ trái sang phải đến khi đụng chữ\n",
        "    s_cut_point = 0\n",
        "    for i in range(0, w, 1):\n",
        "        if True in set(img[:,i] >  0): # các điểm không phải là trắng\n",
        "            s_cut_point = i\n",
        "            break\n",
        "    # duyệt từ phải sang trái đến khi đụng chữ\n",
        "    e_cut_point = w\n",
        "    for i in range(w-1, 0, -1):\n",
        "        if True in set(img[:,i] >  0): # các điểm không phải là trắng\n",
        "            e_cut_point = i\n",
        "            break\n",
        "    return img[:,s_cut_point:e_cut_point]\n",
        "\n",
        "# cắt ảnh ra thành từng ảnh nhỏ\n",
        "def cut_img(img):\n",
        "    h, w = img.shape\n",
        "    step = 9\n",
        "    sub_imgs = []\n",
        "    for i in range(step, w, step): # w, h = 10, 32\n",
        "        sub_img = img[:,i-step:i]\n",
        "        sub_imgs.append(sub_img)\n",
        "        if i+step > w:\n",
        "            sub_img = img[:,w-step:w]\n",
        "            sub_imgs.append(sub_img)\n",
        "    return sub_imgs\n",
        "\n",
        "def process_image(filename):\n",
        "    binary = read_convert_img(filename)\n",
        "    img = resize(binary)\n",
        "    img = strip_img(img)\n",
        "    sub_imgs = cut_img(img)\n",
        "    return np.asarray(sub_imgs)"
      ]
    },
    {
      "cell_type": "code",
      "execution_count": 5,
      "metadata": {
        "id": "1MTT-T8Kpomw"
      },
      "outputs": [],
      "source": [
        "# VectorizeChar để chuyển các char trong text thành vector id ký tự\n",
        "class VectorizeChar:\n",
        "    def __init__(self, max_len=50):\n",
        "        self.vocab = (\n",
        "            [str(i) for i in range(10)]\n",
        "            + [\"<\", \">\", \"-\", \"#\", \"/\", \" \", \".\", \",\", \"?\", \"!\"]\n",
        "            + [chr(i + 96) for i in range(1, 27)]\n",
        "            + [\"đ\",\"â\", \"ă\", \"ê\", \"ô\", \"ơ\", \"ư\", \"à\", \"ằ\", \"ầ\", \"è\", \"ề\", \"ò\", \"ồ\", \"ờ\", \"ù\", \"ừ\", \"ì\", \"ỳ\", \"á\", \"ắ\", \"ấ\", \"é\", \"ế\", \"ó\", \"ố\", \"ớ\", \"ú\", \"ứ\", \"í\", \"ý\", \"ả\", \"ẳ\", \"ẩ\", \"ẻ\", \"ể\", \"ỏ\", \"ổ\", \"ở\", \"ủ\", \"ử\", \"ỉ\", \"ỷ\", \"ã\", \"ẵ\", \"ẫ\", \"ẽ\", \"ễ\", \"õ\", \"ỗ\", \"ỡ\", \"ũ\", \"ữ\", \"ĩ\", \"ỹ\", \"ạ\", \"ặ\", \"ậ\", \"ẹ\", \"ệ\", \"ọ\", \"ộ\", \"ợ\", \"ụ\", \"ự\", \"ị\", \"ỵ\"]\n",
        "        )\n",
        "        self.max_len = max_len\n",
        "        # dữ liệu trong char_to_idx là: vocab: id\n",
        "        self.char_to_idx = {}\n",
        "        for i, ch in enumerate(self.vocab):\n",
        "            self.char_to_idx[ch] = i\n",
        "\n",
        "        self.vocab_size = len(self.vocab)\n",
        "\n",
        "        \n",
        "    def __call__(self, text):\n",
        "        \"\"\"\n",
        "            input: text\n",
        "            output: danh sách id của các ký tự (char)\n",
        "        \"\"\"\n",
        "        # viết thường hết đoạn text truyền vào\n",
        "        text = text.lower()\n",
        "        # lấy kích thước các ký tự trong text không quá maxlen-2\n",
        "        text = text[: self.max_len - 2]\n",
        "        # đưa text vào trong ngoặc nhọn\n",
        "        text = \"<\" + text + \">\"\n",
        "        # dùng để padding đoạn text\n",
        "        pad_len = self.max_len - len(text)\n",
        "        # nếu ký tự không có trong list thì mặc định là 1, sau khi bỏ đi phần sau của text thì chúng ta sẽ thêm zero array để padding\n",
        "        return [self.char_to_idx.get(ch, 1) for ch in text] + [12] * pad_len\n",
        "\n",
        "    def get_vocabulary(self):\n",
        "        # output: danh sách vocab\n",
        "        return self.vocab\n",
        "    \n",
        "    def decode(self, vector):\n",
        "        text = ''\n",
        "        for value in vector:\n",
        "            text += self.vocab[value]\n",
        "        return text"
      ]
    },
    {
      "attachments": {},
      "cell_type": "markdown",
      "metadata": {
        "id": "ozsst8Fw86Ze"
      },
      "source": [
        "# Xử lý dữ liệu"
      ]
    },
    {
      "cell_type": "code",
      "execution_count": 40,
      "metadata": {
        "id": "0FjWvjhd86Zf"
      },
      "outputs": [],
      "source": [
        "ROOT_PATH =  'dataset'# 'drive/MyDrive/dataset/image-extract/dataset'\n",
        "train_path = 'training'\n",
        "test_path = 'testing'\n",
        "\n",
        "with open(os.path.join(ROOT_PATH, train_path, 'labels.json'), 'r', encoding='utf8') as f:\n",
        "    train_data = json.load(f)\n",
        "with open(os.path.join(ROOT_PATH, test_path, 'labels.json'), 'r', encoding='utf8') as f:\n",
        "    test_data = json.load(f)"
      ]
    },
    {
      "attachments": {},
      "cell_type": "markdown",
      "metadata": {
        "id": "GmZnTuLj86Zf"
      },
      "source": [
        "'0000_samples.png': 'Số 253 đường Trần Phú, Thị trấn Nam Sách, Huyện Nam Sách, Hải Dương',\n",
        "'0001_samples.png': 'Số 289 Đinh Bộ Lĩnh, Phường 26, Quận Bình Thạnh, TP Hồ Chí Minh',"
      ]
    },
    {
      "attachments": {},
      "cell_type": "markdown",
      "metadata": {
        "id": "ByVaGin086Zf"
      },
      "source": [
        "img_name: img_content\n",
        "-> img_value: vector_char"
      ]
    },
    {
      "attachments": {},
      "cell_type": "markdown",
      "metadata": {
        "id": "03MmNo_786Zf"
      },
      "source": [
        "## Feature"
      ]
    },
    {
      "cell_type": "code",
      "execution_count": 7,
      "metadata": {
        "id": "HJqYmZPC86Zg"
      },
      "outputs": [],
      "source": [
        "MAX_INPUT_LEN = 70\n",
        "\n",
        "def get_img_value(filename):\n",
        "    sub_imgs = process_image(filename)\n",
        "    return sub_imgs\n",
        "\n",
        "def padding_sub_imgs(sub_imgs):\n",
        "    seq_len = sub_imgs.shape[0]\n",
        "    pad = np.zeros((1,32,9))\n",
        "    if seq_len < MAX_INPUT_LEN:\n",
        "        for _ in range(MAX_INPUT_LEN-seq_len):\n",
        "            sub_imgs = np.concatenate([sub_imgs, pad], axis=0)\n",
        "    return sub_imgs[:MAX_INPUT_LEN]\n",
        "\n",
        "def get_imgs_value(data_path, dataset): \n",
        "    data = []\n",
        "    idx = 1\n",
        "    for img_name in dataset.keys():\n",
        "        print_progress(idx, len(dataset.keys()), img_name)\n",
        "        idx+=1\n",
        "        path = os.path.join(ROOT_PATH, data_path, img_name)# file path\n",
        "        sub_imgs = get_img_value(path) # imgs (bath, h, w)\n",
        "        sub_imgs_pad = padding_sub_imgs(sub_imgs)# imgs (seq_len, h, w)\n",
        "        data.append(sub_imgs_pad)\n",
        "    return data\n",
        "# get_imgs_value(train_path)"
      ]
    },
    {
      "cell_type": "code",
      "execution_count": 8,
      "metadata": {},
      "outputs": [
        {
          "data": {
            "image/png": "[encoded data removed]",
            "text/plain": [
              "<Figure size 432x288 with 1 Axes>"
            ]
          },
          "metadata": {
            "needs_background": "light"
          },
          "output_type": "display_data"
        }
      ],
      "source": [
        "# kiểm tra đầu vào\n",
        "img_tmp = read_convert_img('dataset/training/0000_samples.png')\n",
        "cv2_imshow(img_tmp)"
      ]
    },
    {
      "cell_type": "code",
      "execution_count": 41,
      "metadata": {
        "colab": {
          "base_uri": "https://localhost:8080/"
        },
        "id": "QNqomwiH86Zh",
        "outputId": "e0e1a937-4cb3-4a9e-eda7-044c10ad6a01"
      },
      "outputs": [
        {
          "name": "stdout",
          "output_type": "stream",
          "text": [
            "processing 0548_tests.png 100.0%"
          ]
        }
      ],
      "source": [
        "train_values =  get_imgs_value(train_path, train_data) # 20s\n",
        "test_values =  get_imgs_value(test_path, test_data)"
      ]
    },
    {
      "cell_type": "code",
      "execution_count": 42,
      "metadata": {
        "colab": {
          "base_uri": "https://localhost:8080/"
        },
        "id": "LvXf0EYn86Zh",
        "outputId": "36012ffc-165d-454c-dc86-98557fd69bd3"
      },
      "outputs": [
        {
          "data": {
            "text/plain": [
              "(1823, 549)"
            ]
          },
          "execution_count": 42,
          "metadata": {},
          "output_type": "execute_result"
        }
      ],
      "source": [
        "len(train_values), len(test_values)"
      ]
    },
    {
      "attachments": {},
      "cell_type": "markdown",
      "metadata": {
        "id": "UJfvnd-M86Zh"
      },
      "source": [
        "# Label"
      ]
    },
    {
      "cell_type": "code",
      "execution_count": 11,
      "metadata": {
        "id": "idjPRumh86Zh"
      },
      "outputs": [],
      "source": [
        "MAX_OUTPUT_LEN = 80\n",
        "vectorizer = VectorizeChar(MAX_OUTPUT_LEN) # default maxlen = 50\n",
        "\n",
        "def get_vector_char(text):\n",
        "    vector = vectorizer(text.strip())\n",
        "    return vector\n",
        "def get_vectors_char(dataset):\n",
        "    data = []\n",
        "    for text in dataset.values():\n",
        "        vector = get_vector_char(text)\n",
        "        data.append(vector)\n",
        "    return data"
      ]
    },
    {
      "cell_type": "code",
      "execution_count": 43,
      "metadata": {
        "id": "hkycK19l86Zi"
      },
      "outputs": [],
      "source": [
        "train_labels =  get_vectors_char(train_data)\n",
        "test_labels =  get_vectors_char(test_data)"
      ]
    },
    {
      "cell_type": "code",
      "execution_count": 44,
      "metadata": {
        "colab": {
          "base_uri": "https://localhost:8080/"
        },
        "id": "ty4HOvtj86Zi",
        "outputId": "859d4f2e-93e8-41ab-a769-f762b66d4f37"
      },
      "outputs": [
        {
          "data": {
            "text/plain": [
              "(1823, 549)"
            ]
          },
          "execution_count": 44,
          "metadata": {},
          "output_type": "execute_result"
        }
      ],
      "source": [
        "len(train_labels), len(test_labels)"
      ]
    },
    {
      "attachments": {},
      "cell_type": "markdown",
      "metadata": {
        "id": "HzoY7vZi86Zi"
      },
      "source": [
        "# Zip data - label"
      ]
    },
    {
      "cell_type": "code",
      "execution_count": 14,
      "metadata": {
        "id": "R3I40yUd86Zk"
      },
      "outputs": [],
      "source": [
        "def create_ds(values, labels, batch_size=8):\n",
        "    image = tf.data.Dataset.from_tensor_slices(values)\n",
        "    label = tf.data.Dataset.from_tensor_slices(labels)\n",
        "\n",
        "    data = tf.data.Dataset.zip((image, label))\n",
        "    data = data.map(lambda x, y: {\"source\": x, \"target\": y})\n",
        "    data = data.batch(batch_size)\n",
        "    data = data.prefetch(tf.data.AUTOTUNE)\n",
        "\n",
        "    return data"
      ]
    },
    {
      "cell_type": "code",
      "execution_count": 15,
      "metadata": {
        "colab": {
          "base_uri": "https://localhost:8080/"
        },
        "id": "NZKn4LDa86Zk",
        "outputId": "0ba3ba33-ca58-4eb1-b27b-d1e77aae6993"
      },
      "outputs": [
        {
          "name": "stdout",
          "output_type": "stream",
          "text": [
            "<PrefetchDataset element_spec={'source': TensorSpec(shape=(None, 70, 32, 9), dtype=tf.float64, name=None), 'target': TensorSpec(shape=(None, 80), dtype=tf.int32, name=None)}>\n"
          ]
        }
      ],
      "source": [
        "train_data = create_ds(train_values, train_labels, batch_size=6)\n",
        "print(train_data)"
      ]
    },
    {
      "attachments": {},
      "cell_type": "markdown",
      "metadata": {
        "id": "V3I4u-yJF2X1"
      },
      "source": [
        "# Model Transformer"
      ]
    },
    {
      "cell_type": "code",
      "execution_count": 16,
      "metadata": {
        "execution": {
          "iopub.execute_input": "2023-04-16T03:18:16.887972Z",
          "iopub.status.busy": "2023-04-16T03:18:16.887263Z",
          "iopub.status.idle": "2023-04-16T03:18:16.895864Z",
          "shell.execute_reply": "2023-04-16T03:18:16.894615Z",
          "shell.execute_reply.started": "2023-04-16T03:18:16.887936Z"
        },
        "id": "kvT-QF_3F2X1",
        "trusted": true
      },
      "outputs": [],
      "source": [
        "# Các hàm quan trọng\n",
        "# positional Encoding\n",
        "def get_angles(pos, i, d_model):\n",
        "    angle_rates = 1 / np.power(10000, (2 * (i//2)) / np.float32(d_model))\n",
        "    return pos * angle_rates\n",
        "def positional_encoding(position, d_model):\n",
        "    angle_rads = get_angles(np.arange(position)[:, np.newaxis],\n",
        "                          np.arange(d_model)[np.newaxis, :],\n",
        "                          d_model)\n",
        "\n",
        "    # sử dụng sin cho vị trí số chẵn trong mảng, 2i\n",
        "    angle_rads[:, 0::2] = np.sin(angle_rads[:, 0::2])\n",
        "\n",
        "    # sử dụng cos cho vị trí số lẻ trong mảng, 2i+1\n",
        "    angle_rads[:, 1::2] = np.cos(angle_rads[:, 1::2])\n",
        "\n",
        "    pos_encoding = angle_rads[np.newaxis, ...]\n",
        "\n",
        "    return tf.cast(pos_encoding, dtype=tf.float32)"
      ]
    },
    {
      "cell_type": "code",
      "execution_count": 17,
      "metadata": {
        "execution": {
          "iopub.execute_input": "2023-04-16T03:18:16.902176Z",
          "iopub.status.busy": "2023-04-16T03:18:16.901650Z",
          "iopub.status.idle": "2023-04-16T03:18:16.914266Z",
          "shell.execute_reply": "2023-04-16T03:18:16.912595Z",
          "shell.execute_reply.started": "2023-04-16T03:18:16.902141Z"
        },
        "id": "VpKUMAu6F2X2",
        "trusted": true
      },
      "outputs": [],
      "source": [
        "# TokenEmbedding\n",
        "class TokenEmbedding(tf.keras.layers.Layer):\n",
        "    def __init__(self, d_model, \n",
        "                        input_vocab_size, # tokenizer.vocab_size\n",
        "                        max_length): # max_seq_length - MAX_LENGTH\n",
        "        super().__init__()\n",
        "        self.d_model = d_model\n",
        "        self.embedding = tf.keras.layers.Embedding(input_vocab_size, d_model)\n",
        "        self.pos_encoding = positional_encoding(max_length, d_model)\n",
        "\n",
        "    def call(self, x): # x(batch_size, input_seq_len)\n",
        "        seq_len = tf.shape(x)[1]\n",
        "        # cộng token embedding và position encoding.\n",
        "        x = self.embedding(x)  # x(batch_size, input_seq_len, d_model), Input Embedding\n",
        "        x *= tf.math.sqrt(tf.cast(self.d_model, tf.float32))\n",
        "\n",
        "        pos_enc = self.pos_encoding[:, :seq_len, :] # Positional Encoding   \n",
        "        \n",
        "        return x + pos_enc\n",
        "    \n",
        "class ImageFeatureEmbedding(tf.keras.layers.Layer):\n",
        "    def __init__(self, d_model, input_shape=(32,9)):\n",
        "        super().__init__()\n",
        "        self.conv1 = tf.keras.layers.Conv1D(32, kernel_size=3, strides=1, activation=\"relu\", padding='same', input_shape = input_shape)\n",
        "        self.conv2 = tf.keras.layers.Conv1D(64, kernel_size=3, strides=1, activation=\"relu\", padding='same')\n",
        "\n",
        "        self.max_pooling3 = tf.keras.layers.MaxPooling2D(pool_size=(2,2), data_format='channels_first', padding='same')\n",
        "        self.batch_norm = tf.keras.layers.BatchNormalization(epsilon=1e-8)\n",
        "\n",
        "        self.reshape = tf.keras.layers.Reshape((-1, d_model))\n",
        "\n",
        "\n",
        "    def call(self, x): # (batch_size, seq_len, h, w)\n",
        "        x = self.conv1(x) \n",
        "        x = self.conv2(x)\n",
        "        x = self.max_pooling3(x)\n",
        "        x = self.reshape(x)\n",
        "        return x # (batch_size, seq_len, feature_map)\n",
        "\n",
        "# inp = np.random.randint(255, size=(1,70, 32, 9))/17\n",
        "# ImageFeatureEmbedding(512)(inp)"
      ]
    },
    {
      "cell_type": "code",
      "execution_count": 18,
      "metadata": {
        "id": "kH-nRzgRYt14"
      },
      "outputs": [],
      "source": [
        "# Encoder\n",
        "class EncoderLayer(tf.keras.layers.Layer):\n",
        "    def __init__(self, d_model, \n",
        "                        num_heads, \n",
        "                        dff, \n",
        "                        rate=0.1):\n",
        "        super(EncoderLayer, self).__init__()\n",
        "        # sử dụng multi-head attention để tìm sự liên kết giữa các từ trong câu\n",
        "        self.att = tf.keras.layers.MultiHeadAttention(key_dim=d_model, num_heads=num_heads)\n",
        "\n",
        "        self.ffn = tf.keras.Sequential([\n",
        "          tf.keras.layers.Dense(dff, activation='relu'),\n",
        "          tf.keras.layers.Dense(d_model)\n",
        "        ])\n",
        "\n",
        "        self.layernorm1 = tf.keras.layers.LayerNormalization(epsilon=1e-6)\n",
        "        self.layernorm2 = tf.keras.layers.LayerNormalization(epsilon=1e-6)\n",
        "\n",
        "        self.dropout1 = tf.keras.layers.Dropout(rate)\n",
        "        self.dropout2 = tf.keras.layers.Dropout(rate)\n",
        "    \n",
        "    def call(self, x, training):\n",
        "        # sub layer 1\n",
        "        attn_output = self.att(x, x)  # (batch_size, input_seq_len, d_model)\n",
        "        attn_output = self.dropout1(attn_output, training=training)\n",
        "        out1 = self.layernorm1(x + attn_output)  # (batch_size, input_seq_len, d_model)\n",
        "        # sub layer 2\n",
        "        ffn_output = self.ffn(out1)  # (batch_size, input_seq_len, d_model)\n",
        "        ffn_output = self.dropout2(ffn_output, training=training)\n",
        "        out2 = self.layernorm2(out1 + ffn_output)  # (batch_size, input_seq_len, d_model)\n",
        "        # return output\n",
        "        return out2\n",
        "\n",
        "class Encoder(tf.keras.layers.Layer):\n",
        "    def __init__(self, num_layers, \n",
        "                        d_model, \n",
        "                        num_heads, \n",
        "                        dff, \n",
        "                        rate):\n",
        "        super().__init__()\n",
        "\n",
        "        self.num_layers = num_layers\n",
        "        self.enc_layers = [EncoderLayer(d_model, num_heads, dff, rate) \n",
        "                           for _ in range(num_layers)]\n",
        "\n",
        "    def call(self, x, training=False): # (batch_size, input_seq_len, d_model)\n",
        "        for i in range(self.num_layers):\n",
        "              x = self.enc_layers[i](x, training)\n",
        "        return x  # (batch_size, input_seq_len, d_model)\n"
      ]
    },
    {
      "cell_type": "code",
      "execution_count": 19,
      "metadata": {
        "execution": {
          "iopub.execute_input": "2023-04-16T03:18:16.920437Z",
          "iopub.status.busy": "2023-04-16T03:18:16.919892Z",
          "iopub.status.idle": "2023-04-16T03:18:16.935210Z",
          "shell.execute_reply": "2023-04-16T03:18:16.934053Z",
          "shell.execute_reply.started": "2023-04-16T03:18:16.920406Z"
        },
        "id": "7rmfT9F9F2X2",
        "trusted": true
      },
      "outputs": [],
      "source": [
        "# Decoder \n",
        "class DecoderLayer(tf.keras.layers.Layer):\n",
        "    def __init__(self, d_model, # embedding_dimension\n",
        "                    num_heads, \n",
        "                    dff, # feed_forward_dimension\n",
        "                    rate):\n",
        "        super().__init__()\n",
        "        \n",
        "        # Khởi tạo multihead Attention\n",
        "        self.self_att = tf.keras.layers.MultiHeadAttention(key_dim=d_model, num_heads=num_heads)\n",
        "        self.enc_att = tf.keras.layers.MultiHeadAttention(key_dim=d_model, num_heads=num_heads)\n",
        "        # Linear FNN\n",
        "        self.ffn = tf.keras.Sequential(\n",
        "                [\n",
        "                    tf.keras.layers.Dense(dff, activation=\"relu\"),\n",
        "                    tf.keras.layers.Dense(d_model),\n",
        "                ]\n",
        "            )\n",
        "        \n",
        "        # Add Norm\n",
        "        self.layernorm1 = tf.keras.layers.LayerNormalization(epsilon=1e-6)\n",
        "        self.layernorm2 = tf.keras.layers.LayerNormalization(epsilon=1e-6)\n",
        "        self.layernorm3 = tf.keras.layers.LayerNormalization(epsilon=1e-6)\n",
        "        # Dropout\n",
        "        self.dropout1 = tf.keras.layers.Dropout(rate)\n",
        "        self.dropout2 = tf.keras.layers.Dropout(rate)\n",
        "        self.dropout3 = tf.keras.layers.Dropout(rate)\n",
        "\n",
        "    def causal_attention_mask(self, batch_size, n_dest, n_src, dtype):\n",
        "        # nếu ta sử dụng Multi-head attention trên cả câu như ở Encoder, \n",
        "        # Decoder sẽ nhận luôn từ tiếp theo mà nó cần dịch. Để ngăn điều đó, \n",
        "        # khi Decoder dịch đến từ thứ i, phần sau của câu sẽ bị che lại (masked) \n",
        "        # và Decoder chỉ được phép nhận thấy phần nó đã dịch trước đó.\n",
        "        i = tf.range(n_dest)[:, None]\n",
        "        j = tf.range(n_src)\n",
        "        m = i >= j - n_src + n_dest\n",
        "        mask = tf.cast(m, dtype)\n",
        "        mask = tf.reshape(mask, [1, n_dest, n_src])\n",
        "        mult = tf.concat(\n",
        "            [tf.expand_dims(batch_size, -1), tf.constant([1, 1], dtype=tf.int32)], 0\n",
        "        )\n",
        "        # trả về mảng mới với các chiều dữ liệu mới dựa theo mult\n",
        "        return tf.tile(mask, mult)\n",
        "\n",
        "    def call(self, enc_out, target, training=False):\n",
        "        shape = tf.shape(target)\n",
        "        batch_size = shape[0]\n",
        "        seq_len = shape[1]\n",
        "        causal_mask = self.causal_attention_mask(batch_size, seq_len, seq_len, tf.bool)\n",
        "        # sub layer 1 (decoder self-attention)\n",
        "        attn1 = self.self_att(target, target, attention_mask=causal_mask)  # (batch_size, target_seq_len, d_model)\n",
        "        attn1 = self.dropout1(attn1, training=training)\n",
        "        out1 = self.layernorm1(attn1 + target) # Residual -> Norm\n",
        "\n",
        "        # sub layer 2 (encoder - decoder attention)\n",
        "        attn2 = self.enc_att(out1, enc_out)\n",
        "        attn2 = self.dropout2(attn2, training=training)\n",
        "        out2 =  self.layernorm2(attn2 + out1) # Residual -> Norm\n",
        "\n",
        "        # sub layer 3\n",
        "        ffn_output = self.ffn(out2)  # (batch_size, target_seq_len, d_model)\n",
        "        ffn_output = self.dropout3(ffn_output, training=training)\n",
        "        out3 = self.layernorm2(ffn_output + out2)   # Residual -> Norm\n",
        "        # output decode out2\n",
        "        return out3 \n",
        "\n",
        "class Decoder(tf.keras.layers.Layer):\n",
        "    def __init__(self, num_layers,\n",
        "                    d_model, # embedding_dimension\n",
        "                    num_heads, \n",
        "                    dff, # feed_forward_dimension\n",
        "                    rate):\n",
        "        super().__init__()\n",
        "        self.num_layers = num_layers\n",
        "        self.dec_layers = [DecoderLayer(d_model, num_heads, dff, rate) \n",
        "                           for _ in range(num_layers)]\n",
        "    def call(self, enc_out, target, training=False):\n",
        "        for i in range(self.num_layers):\n",
        "              target = self.dec_layers[i](enc_out, target)\n",
        "        return target"
      ]
    },
    {
      "cell_type": "code",
      "execution_count": 26,
      "metadata": {
        "execution": {
          "iopub.execute_input": "2023-04-16T04:04:30.055078Z",
          "iopub.status.busy": "2023-04-16T04:04:30.053840Z",
          "iopub.status.idle": "2023-04-16T04:04:30.070584Z",
          "shell.execute_reply": "2023-04-16T04:04:30.069563Z",
          "shell.execute_reply.started": "2023-04-16T04:04:30.055032Z"
        },
        "id": "EyPVJZLLF2X2",
        "trusted": true
      },
      "outputs": [],
      "source": [
        "class Transformer(tf.keras.Model):\n",
        "    def __init__(self,\n",
        "                d_model,           # dimension token embeddings\n",
        "                num_heads,         # Số Attention Head\n",
        "                dff,               # Số chiều của lớp feed forward\n",
        "                num_layers_enc,     # Số lượng cá lớp encoder chồng lên nhau\n",
        "                num_layers_dec,        # Số lượng cá lớp decoder chồng lên nhau\n",
        "                source_max_length,        # MAX_LENGTH - maximum sequence length\n",
        "                target_max_length,        # MAX_LENGTH - maximum sequence length\n",
        "                output_vocab_size,  # vocab_size - Số lượng token có trong tokenizer (vocab size) (cũng là num class)         # \n",
        "                rate  = 0.1             # dropout rate\n",
        "        ):\n",
        "        super().__init__()\n",
        "        self.loss_metric = tf.keras.metrics.Mean(name=\"loss\")\n",
        "\n",
        "        self.num_layers_dec = num_layers_dec\n",
        "        self.num_layers_enc = num_layers_enc\n",
        "\n",
        "        self.source_maxlen = source_max_length\n",
        "        self.target_maxlen = target_max_length\n",
        "        \n",
        "        # Khởi tạo tầng Embedding\n",
        "        self.enc_input = ImageFeatureEmbedding(d_model) # Image Feature Embedding\n",
        "        self.dec_input = TokenEmbedding(\n",
        "            d_model, \n",
        "            output_vocab_size, # tokenizer.vocab_size\n",
        "            target_max_length\n",
        "        )\n",
        "\n",
        "        # Khởi tạo các lớp decoder và encoder chồng lên nhau\n",
        "        self.encoder = Encoder(num_layers_enc, d_model, num_heads, dff, rate=0.1)\n",
        "        self.decoder = Decoder(num_layers_dec, d_model, num_heads, dff, rate=0.1)\n",
        "\n",
        "        # Khởi tạo lớp đầu ra\n",
        "        self.output_vocab_size = output_vocab_size\n",
        "        self.classifier = tf.keras.layers.Dense(output_vocab_size)\n",
        "\n",
        "    def encode(self, source):\n",
        "        x = self.enc_input(source) # pisitional encoding & embeding\n",
        "        x = self.encoder(x) # encode output\n",
        "        return x\n",
        "    def decode(self, enc_out, target):\n",
        "        # Dự đoán từng từ trong câu\n",
        "        y = self.dec_input(target) # pisitional encoding & embeding\n",
        "        y = self.decoder(enc_out, y) # decode output\n",
        "        return y\n",
        "\n",
        "    def call(self, inputs): \n",
        "        source = inputs[0]\n",
        "        target = inputs[1]\n",
        "        x = self.encode(source) # encode output\n",
        "        y = self.decode(x, target)\n",
        "        return self.classifier(y)\n",
        "\n",
        "    @property\n",
        "    def metrics(self):\n",
        "        return [self.loss_metric]\n",
        "\n",
        "    # Hàm train model\n",
        "    def train_step(self, batch): \n",
        "        source = batch[\"source\"]\n",
        "        target = batch[\"target\"]\n",
        "        dec_input = target[:, :-1]\n",
        "        dec_target = target[:, 1:]\n",
        "        with tf.GradientTape() as tape:\n",
        "            preds = self([source, dec_input])\n",
        "            one_hot = tf.one_hot(dec_target, depth=self.output_vocab_size)\n",
        "            mask = tf.math.logical_not(tf.math.equal(dec_target, 0))\n",
        "            loss = self.compiled_loss(one_hot, preds, sample_weight=mask)\n",
        "        trainable_vars = self.trainable_variables\n",
        "        gradients = tape.gradient(loss, trainable_vars)\n",
        "        self.optimizer.apply_gradients(zip(gradients, trainable_vars))\n",
        "        self.loss_metric.update_state(loss)\n",
        "        return {\"loss\": self.loss_metric.result()}\n",
        "\n",
        "    def test_step(self, batch):\n",
        "        source = batch[\"source\"]\n",
        "        target = batch[\"target\"]\n",
        "        dec_input = target[:, :-1]\n",
        "        dec_target = target[:, 1:]\n",
        "        preds = self([source, dec_input])\n",
        "        one_hot = tf.one_hot(dec_target, depth=self.output_vocab_size)\n",
        "        mask = tf.math.logical_not(tf.math.equal(dec_target, 0))\n",
        "        loss = self.compiled_loss(one_hot, preds, sample_weight=mask)\n",
        "        self.loss_metric.update_state(loss)\n",
        "        return {\"loss\": self.loss_metric.result()}\n",
        "\n",
        "    def generate(self, source, target_start_token_ids):\n",
        "        # Thực hiện suy luận trên một loạt đầu vào (batch of input) bằng cách sử dụng giải thuật greedy\n",
        "        # seq_len = tf.shape(x)[1]\n",
        "        enc = self.encode(source)\n",
        "\n",
        "        bs = tf.shape(source)[0]\n",
        "        dec_input = tf.ones((bs, 1), dtype=tf.int32) * target_start_token_ids\n",
        "        for _ in range(self.target_maxlen-1): # self.target_maxlen - seq_len\n",
        "            dec_out = self.decode(enc, dec_input)\n",
        "            logits = self.classifier(dec_out)\n",
        "            # logits là giá trị từ tiếp theo của n từ trước nó\n",
        "            logits = tf.argmax(logits, axis=-1, output_type=tf.int32)\n",
        "            last_logit = tf.expand_dims(logits[:, -1], axis=-1)\n",
        "            dec_input = tf.concat([dec_input, last_logit], axis=-1)\n",
        "        return dec_input"
      ]
    },
    {
      "attachments": {},
      "cell_type": "markdown",
      "metadata": {
        "id": "TYWHkRG0qh-x"
      },
      "source": [
        "# Display output"
      ]
    },
    {
      "cell_type": "code",
      "execution_count": 27,
      "metadata": {
        "id": "h6fddRkqqltI"
      },
      "outputs": [],
      "source": [
        "class DisplayOutputs(tf.keras.callbacks.Callback):\n",
        "    def __init__(\n",
        "        self, batch, idx_to_token, target_start_token_idx=10, target_end_token_idx=11\n",
        "    ):\n",
        "        # Hiển thị một batch kết quả đầu ra sau mỗi epoch\n",
        "\n",
        "        # Các tham số:\n",
        "        #     batch: Một batch thử nghiệm chứa các khóa \"source\" và \"target\"\n",
        "        #     idx_to_token: Danh sách chứa các mã thông báo từ vựng tương ứng với các chỉ số của chúng\n",
        "        #     target_start_token_idx: Chỉ mục mã thông báo bắt đầu trong từ vựng target\n",
        "        #     target_end_token_idx: Chỉ mục mã thông báo kết thúc trong từ vựng target\n",
        "        self.batch = batch\n",
        "        self.target_start_token_idx = target_start_token_idx\n",
        "        self.target_end_token_idx = target_end_token_idx\n",
        "        self.idx_to_char = idx_to_token\n",
        "\n",
        "    def on_epoch_end(self, epoch, logs=None):\n",
        "        # trong mỗi epoch nếu %5 != 0 thì không làm gì cả\n",
        "        # hàm này sẽ in ra quá kết quả dự đoán và kết quả thực tế của model trong quá trình training\n",
        "        if epoch % 5 != 0:\n",
        "            return\n",
        "        source = self.batch[\"source\"]\n",
        "        target = self.batch[\"target\"].numpy()\n",
        "        bs = tf.shape(source)[0]\n",
        "        preds = self.model.generate(source, self.target_start_token_idx)\n",
        "        preds = preds.numpy()\n",
        "        print()\n",
        "        for i in range(bs):\n",
        "            target_text = \"\".join([self.idx_to_char[_] for _ in target[i, :]])\n",
        "            prediction = \"\"\n",
        "            for idx in preds[i, :]:\n",
        "                prediction += self.idx_to_char[idx]\n",
        "                if idx == self.target_end_token_idx:\n",
        "                    break\n",
        "            print(f\"target:     {target_text.replace('-','')}\")\n",
        "            print(f\"prediction: {prediction}\\n\")"
      ]
    },
    {
      "attachments": {},
      "cell_type": "markdown",
      "metadata": {},
      "source": [
        "# Khởi tạo model"
      ]
    },
    {
      "cell_type": "code",
      "execution_count": 28,
      "metadata": {},
      "outputs": [],
      "source": [
        "valid_data = create_ds(train_values, train_labels, batch_size=4)"
      ]
    },
    {
      "cell_type": "code",
      "execution_count": 29,
      "metadata": {
        "execution": {
          "iopub.execute_input": "2023-04-16T04:04:32.161987Z",
          "iopub.status.busy": "2023-04-16T04:04:32.161161Z",
          "iopub.status.idle": "2023-04-16T04:04:32.244046Z",
          "shell.execute_reply": "2023-04-16T04:04:32.242943Z",
          "shell.execute_reply.started": "2023-04-16T04:04:32.161946Z"
        },
        "id": "DH4-eYOfZuxK",
        "trusted": true
      },
      "outputs": [],
      "source": [
        "# Khởi tạo model\n",
        "model = Transformer(\n",
        "    d_model = 256 ,        \n",
        "    num_heads = 4  ,\n",
        "    dff = 512,\n",
        "    num_layers_enc = 6,\n",
        "    num_layers_dec = 6,\n",
        "    source_max_length = MAX_INPUT_LEN,\n",
        "    target_max_length = MAX_OUTPUT_LEN,\n",
        "    output_vocab_size = len(vectorizer.get_vocabulary()),\n",
        "    rate  = 0.1 \n",
        ")"
      ]
    },
    {
      "cell_type": "code",
      "execution_count": 30,
      "metadata": {
        "colab": {
          "base_uri": "https://localhost:8080/"
        },
        "execution": {
          "iopub.execute_input": "2023-04-16T04:24:45.870895Z",
          "iopub.status.busy": "2023-04-16T04:24:45.870181Z",
          "iopub.status.idle": "2023-04-16T04:50:20.378523Z",
          "shell.execute_reply": "2023-04-16T04:50:20.377417Z",
          "shell.execute_reply.started": "2023-04-16T04:24:45.870854Z"
        },
        "id": "OScmMav0aM82",
        "outputId": "5f7b2383-7ac2-4a8f-d573-60cabaf0caa9",
        "trusted": true
      },
      "outputs": [
        {
          "data": {
            "text/plain": [
              "[PhysicalDevice(name='/physical_device:GPU:0', device_type='GPU')]"
            ]
          },
          "execution_count": 30,
          "metadata": {},
          "output_type": "execute_result"
        }
      ],
      "source": [
        "# Khởi tạo hàm lỗi\n",
        "loss_fn = tf.keras.losses.CategoricalCrossentropy(from_logits=True, label_smoothing=0.1)\n",
        "# Khởi tạo thuật toán tối ưu Adam\n",
        "optimizer = tf.keras.optimizers.Adam(learning_rate=5e-5, epsilon=1e-8)\n",
        "# Khởi tạo callbacks\n",
        "batch = next(iter(valid_data))\n",
        "display_cb = DisplayOutputs(  # đặt các đối số như các index từ cho '<' và '>'\n",
        "    batch, vectorizer.get_vocabulary(), target_start_token_idx=10, target_end_token_idx=11\n",
        ") \n",
        "# Compile và fit model với 200 epochs\n",
        "model.compile(optimizer=optimizer, loss=loss_fn)\n",
        "\n",
        "tf.config.list_physical_devices('GPU')"
      ]
    },
    {
      "cell_type": "code",
      "execution_count": 31,
      "metadata": {},
      "outputs": [
        {
          "name": "stdout",
          "output_type": "stream",
          "text": [
            "Epoch 1/200\n",
            "304/304 [==============================] - ETA: 0s - loss: 2.1678\n",
            "target:     <số 253 đường trần phú, thị trấn nam sách, huyện nam sách, hải dương>\n",
            "prediction: <số 111 thường trấn th, phường thường th, tp hồ hồ hồ hí hí nh>\n",
            "\n",
            "target:     <số 289 đinh bộ lĩnh, phường 26, quận bình thạnh, tp hồ chí minh>\n",
            "prediction: <số 111 đường trấn th, phường thường thàng, tp hồ hồ hồ hí h>\n",
            "\n",
            "target:     <số 246e/2, khu phố 1b, phường an phú, tx thuận an, bình dương>\n",
            "prediction: <số 111 đường trấn th, phường thường thàng, tp hồ hồ hồ hí hí nh>\n",
            "\n",
            "target:     <42 đặng thị nhu, phường nguyễn thái bình, quận 1, tp hồ chí minh>\n",
            "prediction: <số 111 đường thường thường thàng, thàn thành, tp hồ hồ hí hí hí nh>\n",
            "\n",
            "304/304 [==============================] - 130s 365ms/step - loss: 2.1678 - val_loss: 1.8364\n",
            "Epoch 2/200\n",
            "304/304 [==============================] - 86s 282ms/step - loss: 1.6929 - val_loss: 1.5706\n",
            "Epoch 3/200\n",
            "304/304 [==============================] - 85s 280ms/step - loss: 1.5256 - val_loss: 1.4660\n",
            "Epoch 4/200\n",
            "304/304 [==============================] - 87s 287ms/step - loss: 1.4477 - val_loss: 1.4048\n",
            "Epoch 5/200\n",
            "304/304 [==============================] - 85s 280ms/step - loss: 1.3955 - val_loss: 1.3615\n",
            "Epoch 6/200\n",
            "304/304 [==============================] - ETA: 0s - loss: 1.3569\n",
            "target:     <số 253 đường trần phú, thị trấn nam sách, huyện nam sách, hải dương>\n",
            "prediction: <số 15 đường trường thành, phường 1, quận tân phú, tp hồ chí minh>\n",
            "\n",
            "target:     <số 289 đinh bộ lĩnh, phường 26, quận bình thạnh, tp hồ chí minh>\n",
            "prediction: <số 15 đường trần phú, phường 15, quận tân phú, tp hồ chí minh>\n",
            "\n",
            "target:     <số 246e/2, khu phố 1b, phường an phú, tx thuận an, bình dương>\n",
            "prediction: <số 15 đường trần phú, phường 15, quận tân phú, tp hồ chí minh>\n",
            "\n",
            "target:     <42 đặng thị nhu, phường nguyễn thái bình, quận 1, tp hồ chí minh>\n",
            "prediction: <số 15 đường nguyễn thị trấn thành, phường 1, quận tân phú, tp hồ chí minhí minh\n",
            "\n",
            "304/304 [==============================] - 100s 330ms/step - loss: 1.3569 - val_loss: 1.3277\n",
            "Epoch 7/200\n",
            "304/304 [==============================] - 83s 273ms/step - loss: 1.3258 - val_loss: 1.3011\n",
            "Epoch 8/200\n",
            "304/304 [==============================] - 89s 293ms/step - loss: 1.2995 - val_loss: 1.2776\n",
            "Epoch 9/200\n",
            "304/304 [==============================] - 88s 290ms/step - loss: 1.2768 - val_loss: 1.2607\n",
            "Epoch 10/200\n",
            "304/304 [==============================] - 88s 291ms/step - loss: 1.2556 - val_loss: 1.2468\n",
            "Epoch 11/200\n",
            "304/304 [==============================] - ETA: 0s - loss: 1.2352\n",
            "target:     <số 253 đường trần phú, thị trấn nam sách, huyện nam sách, hải dương>\n",
            "prediction: <số 11 đường trường chinh phước, phường 11, quận 3, tp hồ chí minh>\n",
            "\n",
            "target:     <số 289 đinh bộ lĩnh, phường 26, quận bình thạnh, tp hồ chí minh>\n",
            "prediction: <số 19 đường trần phú, phường tân quý, quận tân phú, tp hồ chí minh>\n",
            "\n",
            "target:     <số 246e/2, khu phố 1b, phường an phú, tx thuận an, bình dương>\n",
            "prediction: <số 11 đường nguyễn hoàng hưng, phường 11, quận 3, tp hồ chí minh>\n",
            "\n",
            "target:     <42 đặng thị nhu, phường nguyễn thái bình, quận 1, tp hồ chí minh>\n",
            "prediction: <số 19 đường nguyễn thị trấn tham hà, phường 1, quận 3, tp hồ chí minh>\n",
            "\n",
            "304/304 [==============================] - 106s 349ms/step - loss: 1.2352 - val_loss: 1.2297\n",
            "Epoch 12/200\n",
            "304/304 [==============================] - 90s 297ms/step - loss: 1.2172 - val_loss: 1.2088\n",
            "Epoch 13/200\n",
            "304/304 [==============================] - 90s 298ms/step - loss: 1.1996 - val_loss: 1.1939\n",
            "Epoch 14/200\n",
            "304/304 [==============================] - 91s 300ms/step - loss: 1.1821 - val_loss: 1.1839\n",
            "Epoch 15/200\n",
            "304/304 [==============================] - 91s 299ms/step - loss: 1.1670 - val_loss: 1.1808\n",
            "Epoch 16/200\n",
            "304/304 [==============================] - ETA: 0s - loss: 1.1521\n",
            "target:     <số 253 đường trần phú, thị trấn nam sách, huyện nam sách, hải dương>\n",
            "prediction: <số 156, phố trung hoàn, phường 15, quận gò vấp, tp hồ chí minh>\n",
            "\n",
            "target:     <số 289 đinh bộ lĩnh, phường 26, quận bình thạnh, tp hồ chí minh>\n",
            "prediction: <số 18 đường trường chinh, phường trung linh, quận hải châu, đà nẵng>\n",
            "\n",
            "target:     <số 246e/2, khu phố 1b, phường an phú, tx thuận an, bình dương>\n",
            "prediction: <số 15/1 ấp 4, xã vĩnh long thạnh, huyện bình thuỷ, phú thọ>\n",
            "\n",
            "target:     <42 đặng thị nhu, phường nguyễn thái bình, quận 1, tp hồ chí minh>\n",
            "prediction: <số 151 đường trường chinh, phường trung quan, quận hải châu, đà nẵng>\n",
            "\n",
            "304/304 [==============================] - 107s 351ms/step - loss: 1.1521 - val_loss: 1.1619\n",
            "Epoch 17/200\n",
            "304/304 [==============================] - 88s 288ms/step - loss: 1.1357 - val_loss: 1.1458\n",
            "Epoch 18/200\n",
            "304/304 [==============================] - 89s 293ms/step - loss: 1.1203 - val_loss: 1.1288\n",
            "Epoch 19/200\n",
            "304/304 [==============================] - 119s 394ms/step - loss: 1.1051 - val_loss: 1.1164\n",
            "Epoch 20/200\n",
            "304/304 [==============================] - 157s 518ms/step - loss: 1.0902 - val_loss: 1.1135\n",
            "Epoch 21/200\n",
            "304/304 [==============================] - ETA: 0s - loss: 1.0755\n",
            "target:     <số 253 đường trần phú, thị trấn nam sách, huyện nam sách, hải dương>\n",
            "prediction: <số 156, phố láng nguyễn sa sap, phường yên phụ, quận tây hồ, hà nội>\n",
            "\n",
            "target:     <số 289 đinh bộ lĩnh, phường 26, quận bình thạnh, tp hồ chí minh>\n",
            "prediction: <số 188 đường trường chánh thánh, phường thọ quang, quận đống hđa, hà h --------\n",
            "\n",
            "target:     <số 246e/2, khu phố 1b, phường an phú, tx thuận an, bình dương>\n",
            "prediction: <số 151 đường trường chánh văn giang, phường 11, quận 3, tp hồ chí minh>\n",
            "\n",
            "target:     <42 đặng thị nhu, phường nguyễn thái bình, quận 1, tp hồ chí minh>\n",
            "prediction: <số 199 đường trường chinh, phường trung liệt, quận hoàn khê, hà nội>\n",
            "\n",
            "304/304 [==============================] - 209s 690ms/step - loss: 1.0755 - val_loss: 1.1026\n",
            "Epoch 22/200\n",
            "304/304 [==============================] - 183s 603ms/step - loss: 1.0621 - val_loss: 1.0915\n",
            "Epoch 23/200\n",
            "304/304 [==============================] - 176s 579ms/step - loss: 1.0509 - val_loss: 1.0784\n",
            "Epoch 24/200\n",
            "304/304 [==============================] - 177s 584ms/step - loss: 1.0390 - val_loss: 1.0713\n",
            "Epoch 25/200\n",
            "304/304 [==============================] - 178s 585ms/step - loss: 1.0272 - val_loss: 1.0750\n",
            "Epoch 26/200\n",
            "304/304 [==============================] - ETA: 0s - loss: 1.0165\n",
            "target:     <số 253 đường trần phú, thị trấn nam sách, huyện nam sách, hải dương>\n",
            "prediction: <số 55 đường trần phú, thành phố thái bình, thái bình>\n",
            "\n",
            "target:     <số 289 đinh bộ lĩnh, phường 26, quận bình thạnh, tp hồ chí minh>\n",
            "prediction: <số 28 đường hà huy tập, thành phố thái bình, thái bình>\n",
            "\n",
            "target:     <số 246e/2, khu phố 1b, phường an phú, tx thuận an, bình dương>\n",
            "prediction: <số 171 đường hà han phú, phường trung liệt, quận đống đa, hà nội>\n",
            "\n",
            "target:     <42 đặng thị nhu, phường nguyễn thái bình, quận 1, tp hồ chí minh>\n",
            "prediction: <số 199 đường nguyễn huệ, phường ngọc khánh, quận đống đa, hà nội>\n",
            "\n",
            "304/304 [==============================] - 226s 746ms/step - loss: 1.0165 - val_loss: 1.0646\n",
            "Epoch 27/200\n",
            "304/304 [==============================] - 176s 578ms/step - loss: 1.0065 - val_loss: 1.0592\n",
            "Epoch 28/200\n",
            "304/304 [==============================] - 177s 581ms/step - loss: 0.9958 - val_loss: 1.0443\n",
            "Epoch 29/200\n",
            "304/304 [==============================] - 176s 580ms/step - loss: 0.9845 - val_loss: 1.0383\n",
            "Epoch 30/200\n",
            "304/304 [==============================] - 175s 577ms/step - loss: 0.9740 - val_loss: 1.0318\n",
            "Epoch 31/200\n",
            "304/304 [==============================] - ETA: 0s - loss: 0.9656\n",
            "target:     <số 253 đường trần phú, thị trấn nam sách, huyện nam sách, hải dương>\n",
            "prediction: <xóm đình, xã thánh đông, huyện đa lương, kiên giang>\n",
            "\n",
            "target:     <số 289 đinh bộ lĩnh, phường 26, quận bình thạnh, tp hồ chí minh>\n",
            "prediction: <số 255 đường nguyễn trãi, phường nghĩa tây, thành phố vinh, nghệ an>\n",
            "\n",
            "target:     <số 246e/2, khu phố 1b, phường an phú, tx thuận an, bình dương>\n",
            "prediction: <số 199, đường 3/4, phường 11, thành phố đà lạt, lâm đồng>\n",
            "\n",
            "target:     <42 đặng thị nhu, phường nguyễn thái bình, quận 1, tp hồ chí minh>\n",
            "prediction: <số 79, tổ 11, ấp 3a, xã long thạnh, huyện bình chánh, tp hồ chí minh>\n",
            "\n",
            "304/304 [==============================] - 250s 824ms/step - loss: 0.9656 - val_loss: 1.0171\n",
            "Epoch 32/200\n",
            "304/304 [==============================] - 210s 693ms/step - loss: 0.9556 - val_loss: 1.0117\n",
            "Epoch 33/200\n",
            "304/304 [==============================] - 184s 607ms/step - loss: 0.9481 - val_loss: 1.0089\n",
            "Epoch 34/200\n",
            "304/304 [==============================] - 179s 589ms/step - loss: 0.9387 - val_loss: 1.0072\n",
            "Epoch 35/200\n",
            "304/304 [==============================] - 175s 577ms/step - loss: 0.9316 - val_loss: 0.9967\n",
            "Epoch 36/200\n",
            "304/304 [==============================] - ETA: 0s - loss: 0.9214\n",
            "target:     <số 253 đường trần phú, thị trấn nam sách, huyện nam sách, hải dương>\n",
            "prediction: <xã phước thành, xã nghi phong, huyện thanh trì, hà nội>\n",
            "\n",
            "target:     <số 289 đinh bộ lĩnh, phường 26, quận bình thạnh, tp hồ chí minh>\n",
            "prediction: <số 259 trần hưng đạo, phường ninh trinh, thành nhinh>\n",
            "\n",
            "target:     <số 246e/2, khu phố 1b, phường an phú, tx thuận an, bình dương>\n",
            "prediction: <số 199, trần phú, phường mỹ phú thọ xuân, quận ba đình, hà nội>\n",
            "\n",
            "target:     <42 đặng thị nhu, phường nguyễn thái bình, quận 1, tp hồ chí minh>\n",
            "prediction: <số 251 trần hưng đạo, phường tân quý, thị xã ninh hoà, khánh hòa>\n",
            "\n",
            "304/304 [==============================] - 229s 754ms/step - loss: 0.9214 - val_loss: 0.9886\n",
            "Epoch 37/200\n",
            "304/304 [==============================] - 181s 597ms/step - loss: 0.9144 - val_loss: 0.9690\n",
            "Epoch 38/200\n",
            "304/304 [==============================] - 183s 601ms/step - loss: 0.9079 - val_loss: 0.9634\n",
            "Epoch 39/200\n",
            "304/304 [==============================] - 184s 606ms/step - loss: 0.9007 - val_loss: 0.9684\n",
            "Epoch 40/200\n",
            "304/304 [==============================] - 182s 598ms/step - loss: 0.8927 - val_loss: 0.9581\n",
            "Epoch 41/200\n",
            "304/304 [==============================] - ETA: 0s - loss: 0.8871\n",
            "target:     <số 253 đường trần phú, thị trấn nam sách, huyện nam sách, hải dương>\n",
            "prediction: <số 54 hạ long, phường mỹ an, thành phố hạ long, quảng ninh>\n",
            "\n",
            "target:     <số 289 đinh bộ lĩnh, phường 26, quận bình thạnh, tp hồ chí minh>\n",
            "prediction: <số 254, đường bà 85, phường 8, thành phố vũng tàu, bà rịa - vũng tàu>\n",
            "\n",
            "target:     <số 246e/2, khu phố 1b, phường an phú, tx thuận an, bình dương>\n",
            "prediction: <số 254, đường 4, phường 8, quận 6, tp hồ chí minh>\n",
            "\n",
            "target:     <42 đặng thị nhu, phường nguyễn thái bình, quận 1, tp hồ chí minh>\n",
            "prediction: <299 trương vang, phường nguyễn thái thành, quận 1, tp hồ chí minh>\n",
            "\n",
            "304/304 [==============================] - 244s 805ms/step - loss: 0.8871 - val_loss: 0.9496\n",
            "Epoch 42/200\n",
            "304/304 [==============================] - 193s 636ms/step - loss: 0.8827 - val_loss: 0.9357\n",
            "Epoch 43/200\n",
            "304/304 [==============================] - 180s 591ms/step - loss: 0.8765 - val_loss: 0.9287\n",
            "Epoch 44/200\n",
            "304/304 [==============================] - 177s 582ms/step - loss: 0.8722 - val_loss: 0.9267\n",
            "Epoch 45/200\n",
            "304/304 [==============================] - 178s 585ms/step - loss: 0.8669 - val_loss: 0.9129\n",
            "Epoch 46/200\n",
            "304/304 [==============================] - ETA: 0s - loss: 0.8642\n",
            "target:     <số 253 đường trần phú, thị trấn nam sách, huyện nam sách, hải dương>\n",
            "prediction: <số 253 đường trần phú, phường ngọc khánh, quận ba đình, hà nội>\n",
            "\n",
            "target:     <số 289 đinh bộ lĩnh, phường 26, quận bình thạnh, tp hồ chí minh>\n",
            "prediction: <số 252 đường nguyễn hoàng, phường 2, quận tân bình, tp hồ chí minh>\n",
            "\n",
            "target:     <số 246e/2, khu phố 1b, phường an phú, tx thuận an, bình dương>\n",
            "prediction: <224/29 vươn tru, phường 14, quận gò vấp, tp hồ chí minh>\n",
            "\n",
            "target:     <42 đặng thị nhu, phường nguyễn thái bình, quận 1, tp hồ chí minh>\n",
            "prediction: <285/137/2327 lê trọng tấn, phường 15, quận bình tân, tp hồ chí minh>\n",
            "\n",
            "304/304 [==============================] - 241s 795ms/step - loss: 0.8642 - val_loss: 0.9175\n",
            "Epoch 47/200\n",
            "304/304 [==============================] - 183s 603ms/step - loss: 0.8618 - val_loss: 0.9069\n",
            "Epoch 48/200\n",
            "304/304 [==============================] - 182s 600ms/step - loss: 0.8559 - val_loss: 0.8976\n",
            "Epoch 49/200\n",
            "304/304 [==============================] - 168s 553ms/step - loss: 0.8523 - val_loss: 0.8859\n",
            "Epoch 50/200\n",
            "304/304 [==============================] - 161s 532ms/step - loss: 0.8470 - val_loss: 0.8778\n",
            "Epoch 51/200\n",
            "304/304 [==============================] - ETA: 0s - loss: 0.8431\n",
            "target:     <số 253 đường trần phú, thị trấn nam sách, huyện nam sách, hải dương>\n",
            "prediction: <số 254, tổ 41, phường đức xuân, huyện phú lương, long an>\n",
            "\n",
            "target:     <số 289 đinh bộ lĩnh, phường 26, quận bình thạnh, tp hồ chí minh>\n",
            "prediction: <số 289 đinh bộ lĩnh, phường 26, quận bình thạnh, tp hồ chí minh>\n",
            "\n",
            "target:     <số 246e/2, khu phố 1b, phường an phú, tx thuận an, bình dương>\n",
            "prediction: <số 246e/2, khu phố 1b, phường an phú, thành phố biên hoà, đồng nai>\n",
            "\n",
            "target:     <42 đặng thị nhu, phường nguyễn thái bình, quận 1, tp hồ chí minh>\n",
            "prediction: <42 đặng thị nhu, phường nguyễn thái bình, quận 1, tp hồ chí minh>\n",
            "\n",
            "304/304 [==============================] - 222s 731ms/step - loss: 0.8431 - val_loss: 0.8748\n",
            "Epoch 52/200\n",
            "304/304 [==============================] - 176s 579ms/step - loss: 0.8410 - val_loss: 0.8704\n",
            "Epoch 53/200\n",
            "304/304 [==============================] - 174s 571ms/step - loss: 0.8397 - val_loss: 0.8709\n",
            "Epoch 54/200\n",
            "304/304 [==============================] - 166s 546ms/step - loss: 0.8361 - val_loss: 0.8670\n",
            "Epoch 55/200\n",
            "304/304 [==============================] - 161s 530ms/step - loss: 0.8353 - val_loss: 0.8636\n",
            "Epoch 56/200\n",
            "304/304 [==============================] - ETA: 0s - loss: 0.8354\n",
            "target:     <số 253 đường trần phú, thị trấn nam sách, huyện nam sách, hải dương>\n",
            "prediction: <số 253 đường trần phú, thị trấn nam sách, huyện nam sách, hải dương>\n",
            "\n",
            "target:     <số 289 đinh bộ lĩnh, phường 26, quận bình thạnh, tp hồ chí minh>\n",
            "prediction: <số 289 đinh bộ lĩnh, phường 26, quận bình thạnh, tp hồ chí minh>\n",
            "\n",
            "target:     <số 246e/2, khu phố 1b, phường an phú, tx thuận an, bình dương>\n",
            "prediction: <số 246e/2, khu phố 1b, phường an phú, tx thuận an, bình dương>\n",
            "\n",
            "target:     <42 đặng thị nhu, phường nguyễn thái bình, quận 1, tp hồ chí minh>\n",
            "prediction: <42 đặng thị nhu, phường nguyễn thái bình, quận 1, tp hồ chí minh>\n",
            "\n",
            "304/304 [==============================] - 214s 706ms/step - loss: 0.8354 - val_loss: 0.8667\n",
            "Epoch 57/200\n",
            "304/304 [==============================] - 175s 575ms/step - loss: 0.8366 - val_loss: 0.8681\n",
            "Epoch 58/200\n",
            "304/304 [==============================] - 174s 572ms/step - loss: 0.8335 - val_loss: 0.8556\n",
            "Epoch 59/200\n",
            "304/304 [==============================] - 175s 577ms/step - loss: 0.8333 - val_loss: 0.8571\n",
            "Epoch 60/200\n",
            "304/304 [==============================] - 177s 582ms/step - loss: 0.8312 - val_loss: 0.8516\n",
            "Epoch 61/200\n",
            "304/304 [==============================] - ETA: 0s - loss: 0.8288\n",
            "target:     <số 253 đường trần phú, thị trấn nam sách, huyện nam sách, hải dương>\n",
            "prediction: <số 253 đường trần phú, thị trấn nam sách, huyện nam sách, hải dương>\n",
            "\n",
            "target:     <số 289 đinh bộ lĩnh, phường 26, quận bình thạnh, tp hồ chí minh>\n",
            "prediction: <số 289 đinh bộ lĩnh, phường 26, quận bình thạnh, tp hồ chí minh>\n",
            "\n",
            "target:     <số 246e/2, khu phố 1b, phường an phú, tx thuận an, bình dương>\n",
            "prediction: <số 246e/2, khu phố 1b, phường an phú, tx thuận an, bình dương>\n",
            "\n",
            "target:     <42 đặng thị nhu, phường nguyễn thái bình, quận 1, tp hồ chí minh>\n",
            "prediction: <42 đặng thị nhu, phường nguyễn thái bình, quận 1, tp hồ chí minh>\n",
            "\n",
            "304/304 [==============================] - 229s 753ms/step - loss: 0.8288 - val_loss: 0.8497\n",
            "Epoch 62/200\n",
            "304/304 [==============================] - 172s 566ms/step - loss: 0.8246 - val_loss: 0.8477\n",
            "Epoch 63/200\n",
            "304/304 [==============================] - 164s 541ms/step - loss: 0.8226 - val_loss: 0.8406\n",
            "Epoch 64/200\n",
            "304/304 [==============================] - 182s 599ms/step - loss: 0.8256 - val_loss: 0.8465\n",
            "Epoch 65/200\n",
            "304/304 [==============================] - 176s 579ms/step - loss: 0.8284 - val_loss: 0.8494\n",
            "Epoch 66/200\n",
            "304/304 [==============================] - ETA: 0s - loss: 0.8305\n",
            "target:     <số 253 đường trần phú, thị trấn nam sách, huyện nam sách, hải dương>\n",
            "prediction: <số 253 đường trần phú, thị trấn nam sách, huyện nam sách, hải dương>\n",
            "\n",
            "target:     <số 289 đinh bộ lĩnh, phường 26, quận bình thạnh, tp hồ chí minh>\n",
            "prediction: <số 289 đinh bộ lĩnh, phường 26, quận bình thạnh, tp hồ chí minh>\n",
            "\n",
            "target:     <số 246e/2, khu phố 1b, phường an phú, tx thuận an, bình dương>\n",
            "prediction: <số 246e/2, khu phố 1b, phường an phú, tx thuận an, bình dương>\n",
            "\n",
            "target:     <42 đặng thị nhu, phường nguyễn thái bình, quận 1, tp hồ chí minh>\n",
            "prediction: <42 đặng thị nhu, phường nguyễn thái bình, quận 1, tp hồ chí minh>\n",
            "\n",
            "304/304 [==============================] - 230s 757ms/step - loss: 0.8305 - val_loss: 0.8522\n",
            "Epoch 67/200\n",
            "304/304 [==============================] - 180s 592ms/step - loss: 0.8272 - val_loss: 0.8492\n",
            "Epoch 68/200\n",
            "304/304 [==============================] - 182s 597ms/step - loss: 0.8259 - val_loss: 0.8455\n",
            "Epoch 69/200\n",
            "304/304 [==============================] - 178s 588ms/step - loss: 0.8220 - val_loss: 0.8341\n",
            "Epoch 70/200\n",
            "304/304 [==============================] - 177s 584ms/step - loss: 0.8202 - val_loss: 0.8409\n",
            "Epoch 71/200\n",
            "304/304 [==============================] - ETA: 0s - loss: 0.8234\n",
            "target:     <số 253 đường trần phú, thị trấn nam sách, huyện nam sách, hải dương>\n",
            "prediction: <số 253 đường trần phú, thị trấn nam sách, huyện nam sách, hải dương>\n",
            "\n",
            "target:     <số 289 đinh bộ lĩnh, phường 26, quận bình thạnh, tp hồ chí minh>\n",
            "prediction: <số 289 đinh bộ lĩnh, phường 26, quận bình thạnh, tp hồ chí minh>\n",
            "\n",
            "target:     <số 246e/2, khu phố 1b, phường an phú, tx thuận an, bình dương>\n",
            "prediction: <số 246e/2, khu phố 1b, phường an phú, tx thuận an, bình dương>\n",
            "\n",
            "target:     <42 đặng thị nhu, phường nguyễn thái bình, quận 1, tp hồ chí minh>\n",
            "prediction: <42 đặng thị nhu, phường nguyễn thái bình, quận 1, tp hồ chí minh>\n",
            "\n",
            "304/304 [==============================] - 232s 764ms/step - loss: 0.8234 - val_loss: 0.8388\n",
            "Epoch 72/200\n",
            "304/304 [==============================] - 179s 588ms/step - loss: 0.8198 - val_loss: 0.8298\n",
            "Epoch 73/200\n",
            "304/304 [==============================] - 168s 552ms/step - loss: 0.8195 - val_loss: 0.8338\n",
            "Epoch 74/200\n",
            "304/304 [==============================] - 168s 554ms/step - loss: 0.8188 - val_loss: 0.8338\n",
            "Epoch 75/200\n",
            "304/304 [==============================] - 198s 653ms/step - loss: 0.8187 - val_loss: 0.8359\n",
            "Epoch 76/200\n",
            "  6/304 [..............................] - ETA: 2:02 - loss: 0.8202"
          ]
        },
        {
          "ename": "KeyboardInterrupt",
          "evalue": "",
          "output_type": "error",
          "traceback": [
            "\u001b[1;31m---------------------------------------------------------------------------\u001b[0m",
            "\u001b[1;31mKeyboardInterrupt\u001b[0m                         Traceback (most recent call last)",
            "\u001b[1;32mc:\\Users\\hungu\\Desktop\\trích xuất văn bản từ hình ảnh OCR\\source\\OCR.ipynb Cell 35\u001b[0m in \u001b[0;36m<cell line: 1>\u001b[1;34m()\u001b[0m\n\u001b[1;32m----> <a href='vscode-notebook-cell:/c%3A/Users/hungu/Desktop/tr%C3%ADch%20xu%E1%BA%A5t%20v%C4%83n%20b%E1%BA%A3n%20t%E1%BB%AB%20h%C3%ACnh%20%E1%BA%A3nh%20OCR/source/OCR.ipynb#Y145sZmlsZQ%3D%3D?line=0'>1</a>\u001b[0m history \u001b[39m=\u001b[39m model\u001b[39m.\u001b[39;49mfit(train_data, validation_data\u001b[39m=\u001b[39;49mvalid_data, epochs\u001b[39m=\u001b[39;49m\u001b[39m200\u001b[39;49m, callbacks\u001b[39m=\u001b[39;49m[display_cb])\n",
            "File \u001b[1;32mc:\\Users\\hungu\\AppData\\Local\\Programs\\Python\\Python39\\lib\\site-packages\\keras\\utils\\traceback_utils.py:65\u001b[0m, in \u001b[0;36mfilter_traceback.<locals>.error_handler\u001b[1;34m(*args, **kwargs)\u001b[0m\n\u001b[0;32m     63\u001b[0m filtered_tb \u001b[39m=\u001b[39m \u001b[39mNone\u001b[39;00m\n\u001b[0;32m     64\u001b[0m \u001b[39mtry\u001b[39;00m:\n\u001b[1;32m---> 65\u001b[0m     \u001b[39mreturn\u001b[39;00m fn(\u001b[39m*\u001b[39margs, \u001b[39m*\u001b[39m\u001b[39m*\u001b[39mkwargs)\n\u001b[0;32m     66\u001b[0m \u001b[39mexcept\u001b[39;00m \u001b[39mException\u001b[39;00m \u001b[39mas\u001b[39;00m e:\n\u001b[0;32m     67\u001b[0m     filtered_tb \u001b[39m=\u001b[39m _process_traceback_frames(e\u001b[39m.\u001b[39m__traceback__)\n",
            "File \u001b[1;32mc:\\Users\\hungu\\AppData\\Local\\Programs\\Python\\Python39\\lib\\site-packages\\keras\\engine\\training.py:1564\u001b[0m, in \u001b[0;36mModel.fit\u001b[1;34m(self, x, y, batch_size, epochs, verbose, callbacks, validation_split, validation_data, shuffle, class_weight, sample_weight, initial_epoch, steps_per_epoch, validation_steps, validation_batch_size, validation_freq, max_queue_size, workers, use_multiprocessing)\u001b[0m\n\u001b[0;32m   1556\u001b[0m \u001b[39mwith\u001b[39;00m tf\u001b[39m.\u001b[39mprofiler\u001b[39m.\u001b[39mexperimental\u001b[39m.\u001b[39mTrace(\n\u001b[0;32m   1557\u001b[0m     \u001b[39m\"\u001b[39m\u001b[39mtrain\u001b[39m\u001b[39m\"\u001b[39m,\n\u001b[0;32m   1558\u001b[0m     epoch_num\u001b[39m=\u001b[39mepoch,\n\u001b[1;32m   (...)\u001b[0m\n\u001b[0;32m   1561\u001b[0m     _r\u001b[39m=\u001b[39m\u001b[39m1\u001b[39m,\n\u001b[0;32m   1562\u001b[0m ):\n\u001b[0;32m   1563\u001b[0m     callbacks\u001b[39m.\u001b[39mon_train_batch_begin(step)\n\u001b[1;32m-> 1564\u001b[0m     tmp_logs \u001b[39m=\u001b[39m \u001b[39mself\u001b[39;49m\u001b[39m.\u001b[39;49mtrain_function(iterator)\n\u001b[0;32m   1565\u001b[0m     \u001b[39mif\u001b[39;00m data_handler\u001b[39m.\u001b[39mshould_sync:\n\u001b[0;32m   1566\u001b[0m         context\u001b[39m.\u001b[39masync_wait()\n",
            "File \u001b[1;32mc:\\Users\\hungu\\AppData\\Local\\Programs\\Python\\Python39\\lib\\site-packages\\tensorflow\\python\\util\\traceback_utils.py:150\u001b[0m, in \u001b[0;36mfilter_traceback.<locals>.error_handler\u001b[1;34m(*args, **kwargs)\u001b[0m\n\u001b[0;32m    148\u001b[0m filtered_tb \u001b[39m=\u001b[39m \u001b[39mNone\u001b[39;00m\n\u001b[0;32m    149\u001b[0m \u001b[39mtry\u001b[39;00m:\n\u001b[1;32m--> 150\u001b[0m   \u001b[39mreturn\u001b[39;00m fn(\u001b[39m*\u001b[39margs, \u001b[39m*\u001b[39m\u001b[39m*\u001b[39mkwargs)\n\u001b[0;32m    151\u001b[0m \u001b[39mexcept\u001b[39;00m \u001b[39mException\u001b[39;00m \u001b[39mas\u001b[39;00m e:\n\u001b[0;32m    152\u001b[0m   filtered_tb \u001b[39m=\u001b[39m _process_traceback_frames(e\u001b[39m.\u001b[39m__traceback__)\n",
            "File \u001b[1;32mc:\\Users\\hungu\\AppData\\Local\\Programs\\Python\\Python39\\lib\\site-packages\\tensorflow\\python\\eager\\def_function.py:915\u001b[0m, in \u001b[0;36mFunction.__call__\u001b[1;34m(self, *args, **kwds)\u001b[0m\n\u001b[0;32m    912\u001b[0m compiler \u001b[39m=\u001b[39m \u001b[39m\"\u001b[39m\u001b[39mxla\u001b[39m\u001b[39m\"\u001b[39m \u001b[39mif\u001b[39;00m \u001b[39mself\u001b[39m\u001b[39m.\u001b[39m_jit_compile \u001b[39melse\u001b[39;00m \u001b[39m\"\u001b[39m\u001b[39mnonXla\u001b[39m\u001b[39m\"\u001b[39m\n\u001b[0;32m    914\u001b[0m \u001b[39mwith\u001b[39;00m OptionalXlaContext(\u001b[39mself\u001b[39m\u001b[39m.\u001b[39m_jit_compile):\n\u001b[1;32m--> 915\u001b[0m   result \u001b[39m=\u001b[39m \u001b[39mself\u001b[39m\u001b[39m.\u001b[39m_call(\u001b[39m*\u001b[39margs, \u001b[39m*\u001b[39m\u001b[39m*\u001b[39mkwds)\n\u001b[0;32m    917\u001b[0m new_tracing_count \u001b[39m=\u001b[39m \u001b[39mself\u001b[39m\u001b[39m.\u001b[39mexperimental_get_tracing_count()\n\u001b[0;32m    918\u001b[0m without_tracing \u001b[39m=\u001b[39m (tracing_count \u001b[39m==\u001b[39m new_tracing_count)\n",
            "File \u001b[1;32mc:\\Users\\hungu\\AppData\\Local\\Programs\\Python\\Python39\\lib\\site-packages\\tensorflow\\python\\eager\\def_function.py:947\u001b[0m, in \u001b[0;36mFunction._call\u001b[1;34m(self, *args, **kwds)\u001b[0m\n\u001b[0;32m    944\u001b[0m   \u001b[39mself\u001b[39m\u001b[39m.\u001b[39m_lock\u001b[39m.\u001b[39mrelease()\n\u001b[0;32m    945\u001b[0m   \u001b[39m# In this case we have created variables on the first call, so we run the\u001b[39;00m\n\u001b[0;32m    946\u001b[0m   \u001b[39m# defunned version which is guaranteed to never create variables.\u001b[39;00m\n\u001b[1;32m--> 947\u001b[0m   \u001b[39mreturn\u001b[39;00m \u001b[39mself\u001b[39m\u001b[39m.\u001b[39m_stateless_fn(\u001b[39m*\u001b[39margs, \u001b[39m*\u001b[39m\u001b[39m*\u001b[39mkwds)  \u001b[39m# pylint: disable=not-callable\u001b[39;00m\n\u001b[0;32m    948\u001b[0m \u001b[39melif\u001b[39;00m \u001b[39mself\u001b[39m\u001b[39m.\u001b[39m_stateful_fn \u001b[39mis\u001b[39;00m \u001b[39mnot\u001b[39;00m \u001b[39mNone\u001b[39;00m:\n\u001b[0;32m    949\u001b[0m   \u001b[39m# Release the lock early so that multiple threads can perform the call\u001b[39;00m\n\u001b[0;32m    950\u001b[0m   \u001b[39m# in parallel.\u001b[39;00m\n\u001b[0;32m    951\u001b[0m   \u001b[39mself\u001b[39m\u001b[39m.\u001b[39m_lock\u001b[39m.\u001b[39mrelease()\n",
            "File \u001b[1;32mc:\\Users\\hungu\\AppData\\Local\\Programs\\Python\\Python39\\lib\\site-packages\\tensorflow\\python\\eager\\function.py:2496\u001b[0m, in \u001b[0;36mFunction.__call__\u001b[1;34m(self, *args, **kwargs)\u001b[0m\n\u001b[0;32m   2493\u001b[0m \u001b[39mwith\u001b[39;00m \u001b[39mself\u001b[39m\u001b[39m.\u001b[39m_lock:\n\u001b[0;32m   2494\u001b[0m   (graph_function,\n\u001b[0;32m   2495\u001b[0m    filtered_flat_args) \u001b[39m=\u001b[39m \u001b[39mself\u001b[39m\u001b[39m.\u001b[39m_maybe_define_function(args, kwargs)\n\u001b[1;32m-> 2496\u001b[0m \u001b[39mreturn\u001b[39;00m graph_function\u001b[39m.\u001b[39;49m_call_flat(\n\u001b[0;32m   2497\u001b[0m     filtered_flat_args, captured_inputs\u001b[39m=\u001b[39;49mgraph_function\u001b[39m.\u001b[39;49mcaptured_inputs)\n",
            "File \u001b[1;32mc:\\Users\\hungu\\AppData\\Local\\Programs\\Python\\Python39\\lib\\site-packages\\tensorflow\\python\\eager\\function.py:1862\u001b[0m, in \u001b[0;36mConcreteFunction._call_flat\u001b[1;34m(self, args, captured_inputs, cancellation_manager)\u001b[0m\n\u001b[0;32m   1858\u001b[0m possible_gradient_type \u001b[39m=\u001b[39m gradients_util\u001b[39m.\u001b[39mPossibleTapeGradientTypes(args)\n\u001b[0;32m   1859\u001b[0m \u001b[39mif\u001b[39;00m (possible_gradient_type \u001b[39m==\u001b[39m gradients_util\u001b[39m.\u001b[39mPOSSIBLE_GRADIENT_TYPES_NONE\n\u001b[0;32m   1860\u001b[0m     \u001b[39mand\u001b[39;00m executing_eagerly):\n\u001b[0;32m   1861\u001b[0m   \u001b[39m# No tape is watching; skip to running the function.\u001b[39;00m\n\u001b[1;32m-> 1862\u001b[0m   \u001b[39mreturn\u001b[39;00m \u001b[39mself\u001b[39m\u001b[39m.\u001b[39m_build_call_outputs(\u001b[39mself\u001b[39;49m\u001b[39m.\u001b[39;49m_inference_function\u001b[39m.\u001b[39;49mcall(\n\u001b[0;32m   1863\u001b[0m       ctx, args, cancellation_manager\u001b[39m=\u001b[39;49mcancellation_manager))\n\u001b[0;32m   1864\u001b[0m forward_backward \u001b[39m=\u001b[39m \u001b[39mself\u001b[39m\u001b[39m.\u001b[39m_select_forward_and_backward_functions(\n\u001b[0;32m   1865\u001b[0m     args,\n\u001b[0;32m   1866\u001b[0m     possible_gradient_type,\n\u001b[0;32m   1867\u001b[0m     executing_eagerly)\n\u001b[0;32m   1868\u001b[0m forward_function, args_with_tangents \u001b[39m=\u001b[39m forward_backward\u001b[39m.\u001b[39mforward()\n",
            "File \u001b[1;32mc:\\Users\\hungu\\AppData\\Local\\Programs\\Python\\Python39\\lib\\site-packages\\tensorflow\\python\\eager\\function.py:499\u001b[0m, in \u001b[0;36m_EagerDefinedFunction.call\u001b[1;34m(self, ctx, args, cancellation_manager)\u001b[0m\n\u001b[0;32m    497\u001b[0m \u001b[39mwith\u001b[39;00m _InterpolateFunctionError(\u001b[39mself\u001b[39m):\n\u001b[0;32m    498\u001b[0m   \u001b[39mif\u001b[39;00m cancellation_manager \u001b[39mis\u001b[39;00m \u001b[39mNone\u001b[39;00m:\n\u001b[1;32m--> 499\u001b[0m     outputs \u001b[39m=\u001b[39m execute\u001b[39m.\u001b[39;49mexecute(\n\u001b[0;32m    500\u001b[0m         \u001b[39mstr\u001b[39;49m(\u001b[39mself\u001b[39;49m\u001b[39m.\u001b[39;49msignature\u001b[39m.\u001b[39;49mname),\n\u001b[0;32m    501\u001b[0m         num_outputs\u001b[39m=\u001b[39;49m\u001b[39mself\u001b[39;49m\u001b[39m.\u001b[39;49m_num_outputs,\n\u001b[0;32m    502\u001b[0m         inputs\u001b[39m=\u001b[39;49margs,\n\u001b[0;32m    503\u001b[0m         attrs\u001b[39m=\u001b[39;49mattrs,\n\u001b[0;32m    504\u001b[0m         ctx\u001b[39m=\u001b[39;49mctx)\n\u001b[0;32m    505\u001b[0m   \u001b[39melse\u001b[39;00m:\n\u001b[0;32m    506\u001b[0m     outputs \u001b[39m=\u001b[39m execute\u001b[39m.\u001b[39mexecute_with_cancellation(\n\u001b[0;32m    507\u001b[0m         \u001b[39mstr\u001b[39m(\u001b[39mself\u001b[39m\u001b[39m.\u001b[39msignature\u001b[39m.\u001b[39mname),\n\u001b[0;32m    508\u001b[0m         num_outputs\u001b[39m=\u001b[39m\u001b[39mself\u001b[39m\u001b[39m.\u001b[39m_num_outputs,\n\u001b[1;32m   (...)\u001b[0m\n\u001b[0;32m    511\u001b[0m         ctx\u001b[39m=\u001b[39mctx,\n\u001b[0;32m    512\u001b[0m         cancellation_manager\u001b[39m=\u001b[39mcancellation_manager)\n",
            "File \u001b[1;32mc:\\Users\\hungu\\AppData\\Local\\Programs\\Python\\Python39\\lib\\site-packages\\tensorflow\\python\\eager\\execute.py:54\u001b[0m, in \u001b[0;36mquick_execute\u001b[1;34m(op_name, num_outputs, inputs, attrs, ctx, name)\u001b[0m\n\u001b[0;32m     52\u001b[0m \u001b[39mtry\u001b[39;00m:\n\u001b[0;32m     53\u001b[0m   ctx\u001b[39m.\u001b[39mensure_initialized()\n\u001b[1;32m---> 54\u001b[0m   tensors \u001b[39m=\u001b[39m pywrap_tfe\u001b[39m.\u001b[39;49mTFE_Py_Execute(ctx\u001b[39m.\u001b[39;49m_handle, device_name, op_name,\n\u001b[0;32m     55\u001b[0m                                       inputs, attrs, num_outputs)\n\u001b[0;32m     56\u001b[0m \u001b[39mexcept\u001b[39;00m core\u001b[39m.\u001b[39m_NotOkStatusException \u001b[39mas\u001b[39;00m e:\n\u001b[0;32m     57\u001b[0m   \u001b[39mif\u001b[39;00m name \u001b[39mis\u001b[39;00m \u001b[39mnot\u001b[39;00m \u001b[39mNone\u001b[39;00m:\n",
            "\u001b[1;31mKeyboardInterrupt\u001b[0m: "
          ]
        }
      ],
      "source": [
        "history = model.fit(train_data, validation_data=valid_data, epochs=200, callbacks=[display_cb]) "
      ]
    },
    {
      "cell_type": "code",
      "execution_count": null,
      "metadata": {},
      "outputs": [],
      "source": [
        "# Loss từ 2.1678 -> 0.8187 sau 75 epochs"
      ]
    },
    {
      "cell_type": "code",
      "execution_count": 32,
      "metadata": {
        "id": "2heWam5CXAQM"
      },
      "outputs": [],
      "source": [
        "drive_path = 'drive/MyDrive/dataset/image-extract'\n",
        "model.save_weights('./my_checkpoint')"
      ]
    },
    {
      "cell_type": "code",
      "execution_count": null,
      "metadata": {
        "colab": {
          "base_uri": "https://localhost:8080/",
          "height": 592
        },
        "execution": {
          "iopub.execute_input": "2023-04-16T04:50:20.380904Z",
          "iopub.status.busy": "2023-04-16T04:50:20.380595Z",
          "iopub.status.idle": "2023-04-16T04:50:20.656411Z",
          "shell.execute_reply": "2023-04-16T04:50:20.655231Z",
          "shell.execute_reply.started": "2023-04-16T04:50:20.380875Z"
        },
        "id": "o_o72gax7Rx1",
        "outputId": "24c0375e-d963-40cf-8487-31c6d226e77b",
        "trusted": true
      },
      "outputs": [],
      "source": [
        "import seaborn as sns\n",
        "\n",
        "values = history.history['loss'] \n",
        "# Use plot styling from seaborn.  \n",
        "sns.set(style='darkgrid')\n",
        "\n",
        "# Increase the plot size and font size.\n",
        "sns.set(font_scale=1.5)\n",
        "plt.rcParams[\"figure.figsize\"] = (12,6)\n",
        "\n",
        "# Plot the learning curve.\n",
        "plt.plot(values , 'b')\n",
        "\n",
        "# Label the plot.\n",
        "plt.title(\"Training loss\")\n",
        "plt.xlabel(\"Epoch\")\n",
        "plt.ylabel(\"Loss\")\n",
        "\n",
        "plt.show()"
      ]
    },
    {
      "attachments": {},
      "cell_type": "markdown",
      "metadata": {
        "id": "UmIFTrbTvQlo"
      },
      "source": [
        "# Test"
      ]
    },
    {
      "cell_type": "code",
      "execution_count": 33,
      "metadata": {
        "id": "CIkP60YdvSK6"
      },
      "outputs": [],
      "source": [
        "from nltk.translate.bleu_score import sentence_bleu\n",
        "from nltk.tokenize import word_tokenize\n",
        "\n",
        "def bleu_score(pred, target):\n",
        "    return sentence_bleu([word_tokenize(target)], word_tokenize(pred), weights=(1, 0, 0, 0))"
      ]
    },
    {
      "cell_type": "code",
      "execution_count": 34,
      "metadata": {},
      "outputs": [
        {
          "name": "stderr",
          "output_type": "stream",
          "text": [
            "c:\\Users\\hungu\\AppData\\Local\\Programs\\Python\\Python39\\lib\\site-packages\\tqdm\\auto.py:22: TqdmWarning: IProgress not found. Please update jupyter and ipywidgets. See https://ipywidgets.readthedocs.io/en/stable/user_install.html\n",
            "  from .autonotebook import tqdm as notebook_tqdm\n"
          ]
        }
      ],
      "source": [
        "from torchmetrics import WordErrorRate\n",
        "wer = WordErrorRate() # (ref, hyp)"
      ]
    },
    {
      "cell_type": "code",
      "execution_count": 46,
      "metadata": {
        "colab": {
          "base_uri": "https://localhost:8080/"
        },
        "id": "VDBulWCyvTOb",
        "outputId": "9a2ae6c0-9915-4b52-ccc1-681db4968630"
      },
      "outputs": [
        {
          "data": {
            "image/png": "[encoded data removed]",
            "text/plain": [
              "<Figure size 432x288 with 1 Axes>"
            ]
          },
          "metadata": {
            "needs_background": "light"
          },
          "output_type": "display_data"
        },
        {
          "name": "stdout",
          "output_type": "stream",
          "text": [
            "target:     <số 253 đường trần phú, thị trấn nam sách, huyện nam sách, hải dương>\n",
            "prediction: <số 253 đường trần phú, thị trấn nam sách, huyện nam sách, hải dương>\n",
            "Bleu Score: 1.0\n",
            "Word Error Rate: 0.0\n",
            "\n"
          ]
        },
        {
          "data": {
            "image/png": "[encoded data removed]",
            "text/plain": [
              "<Figure size 432x288 with 1 Axes>"
            ]
          },
          "metadata": {
            "needs_background": "light"
          },
          "output_type": "display_data"
        },
        {
          "name": "stdout",
          "output_type": "stream",
          "text": [
            "target:     <số 289 đinh bộ lĩnh, phường 26, quận bình thạnh, tp hồ chí minh>\n",
            "prediction: <số 289 đinh bộ lĩnh, phường 26, quận bình thạnh, tp hồ chí minh>\n",
            "Bleu Score: 1.0\n",
            "Word Error Rate: 0.0\n",
            "\n"
          ]
        },
        {
          "data": {
            "image/png": "[encoded data removed]",
            "text/plain": [
              "<Figure size 432x288 with 1 Axes>"
            ]
          },
          "metadata": {
            "needs_background": "light"
          },
          "output_type": "display_data"
        },
        {
          "name": "stdout",
          "output_type": "stream",
          "text": [
            "target:     <số 246e/2, khu phố 1b, phường an phú, tx thuận an, bình dương>\n",
            "prediction: <số 246e/2, khu phố 1b, phường an phú, tx thuận an, bình dương>\n",
            "Bleu Score: 1.0\n",
            "Word Error Rate: 0.0\n",
            "\n"
          ]
        },
        {
          "data": {
            "image/png": "[encoded data removed]",
            "text/plain": [
              "<Figure size 432x288 with 1 Axes>"
            ]
          },
          "metadata": {
            "needs_background": "light"
          },
          "output_type": "display_data"
        },
        {
          "name": "stdout",
          "output_type": "stream",
          "text": [
            "target:     <42 đặng thị nhu, phường nguyễn thái bình, quận 1, tp hồ chí minh>\n",
            "prediction: <42 đặng thị nhu, phường nguyễn thái bình, quận 1, tp hồ chí minh>\n",
            "Bleu Score: 1.0\n",
            "Word Error Rate: 0.0\n",
            "\n"
          ]
        },
        {
          "data": {
            "image/png": "[encoded data removed]",
            "text/plain": [
              "<Figure size 432x288 with 1 Axes>"
            ]
          },
          "metadata": {
            "needs_background": "light"
          },
          "output_type": "display_data"
        },
        {
          "name": "stdout",
          "output_type": "stream",
          "text": [
            "target:     <200 phan bội châu, phường trường an, thành phố huế, thừa thiên  huế>\n",
            "prediction: <29 đường 32, phường phú thạnh, quận tân phú, tp hồ chí minh>\n",
            "Bleu Score: 0.3333333333333333\n",
            "Word Error Rate: 1.0\n",
            "\n"
          ]
        },
        {
          "name": "stderr",
          "output_type": "stream",
          "text": [
            "c:\\Users\\hungu\\AppData\\Local\\Programs\\Python\\Python39\\lib\\site-packages\\nltk\\translate\\bleu_score.py:552: UserWarning: \n",
            "The hypothesis contains 0 counts of 3-gram overlaps.\n",
            "Therefore the BLEU score evaluates to 0, independently of\n",
            "how many N-gram overlaps of lower order it contains.\n",
            "Consider using lower n-gram order or use SmoothingFunction()\n",
            "  warnings.warn(_msg)\n",
            "c:\\Users\\hungu\\AppData\\Local\\Programs\\Python\\Python39\\lib\\site-packages\\nltk\\translate\\bleu_score.py:552: UserWarning: \n",
            "The hypothesis contains 0 counts of 4-gram overlaps.\n",
            "Therefore the BLEU score evaluates to 0, independently of\n",
            "how many N-gram overlaps of lower order it contains.\n",
            "Consider using lower n-gram order or use SmoothingFunction()\n",
            "  warnings.warn(_msg)\n"
          ]
        },
        {
          "data": {
            "image/png": "[encoded data removed]",
            "text/plain": [
              "<Figure size 432x288 with 1 Axes>"
            ]
          },
          "metadata": {
            "needs_background": "light"
          },
          "output_type": "display_data"
        },
        {
          "name": "stdout",
          "output_type": "stream",
          "text": [
            "target:     <27a hoàng việt, phường 4, quận tân bình, tp hồ chí minh>\n",
            "prediction: <27a hoàng việt, phường 4, quận tân bình, tp hồ chí minh>\n",
            "Bleu Score: 1.0\n",
            "Word Error Rate: 0.0\n",
            "\n"
          ]
        },
        {
          "data": {
            "image/png": "[encoded data removed]",
            "text/plain": [
              "<Figure size 432x288 with 1 Axes>"
            ]
          },
          "metadata": {
            "needs_background": "light"
          },
          "output_type": "display_data"
        },
        {
          "name": "stdout",
          "output_type": "stream",
          "text": [
            "target:     <số 113 đường hưng thái 2, phường tân phong, quận 7, tp hồ chí minh>\n",
            "prediction: <số 113 đường hưng thái 2, phường tân phong, quận 7, tp hồ chí minh>\n",
            "Bleu Score: 1.0\n",
            "Word Error Rate: 0.0\n",
            "\n"
          ]
        },
        {
          "data": {
            "image/png": "[encoded data removed]",
            "text/plain": [
              "<Figure size 432x288 with 1 Axes>"
            ]
          },
          "metadata": {
            "needs_background": "light"
          },
          "output_type": "display_data"
        },
        {
          "name": "stdout",
          "output_type": "stream",
          "text": [
            "target:     <thôn 4, xã giới phiên, thành phố yên bái, yên bái>\n",
            "prediction: <thôn 4, xã giới phiên, thành phố yên bái, yên bái>\n",
            "Bleu Score: 1.0\n",
            "Word Error Rate: 0.0\n",
            "\n"
          ]
        },
        {
          "data": {
            "image/png": "[encoded data removed]",
            "text/plain": [
              "<Figure size 432x288 with 1 Axes>"
            ]
          },
          "metadata": {
            "needs_background": "light"
          },
          "output_type": "display_data"
        },
        {
          "name": "stdout",
          "output_type": "stream",
          "text": [
            "target:     <dãy ii, b1, trần phú, phường cái khế, quận ninh kiều, cần thơ>\n",
            "prediction: <dãy ii, b1, trần phú, thị trấn hồ, huyện thuận thành, bắc ninh>\n",
            "Bleu Score: 0.65\n",
            "Word Error Rate: 0.6153846383094788\n",
            "\n"
          ]
        },
        {
          "data": {
            "image/png": "[encoded data removed]",
            "text/plain": [
              "<Figure size 432x288 with 1 Axes>"
            ]
          },
          "metadata": {
            "needs_background": "light"
          },
          "output_type": "display_data"
        },
        {
          "name": "stdout",
          "output_type": "stream",
          "text": [
            "target:     <ấp hòa long 4, thị trấn an châu, huyện châu thành, an giang>\n",
            "prediction: <ấp hòa long 4, thị trấn an châu, huyện châu thành, an giang>\n",
            "Bleu Score: 1.0\n",
            "Word Error Rate: 0.0\n",
            "\n"
          ]
        }
      ],
      "source": [
        "def predict(values, labels, n_to_predict):\n",
        "    \"\"\"\n",
        "        input: truyền vào data và số dữ liệu muốn dự đoán\n",
        "        hàm này sẽ in ra câu mong muốn, câu dự đoán (chúng ta sẽ có thể đánh giá bằng 2 cách 1 là bleu score một cách khác nữa là WORD ERROR RATE)\n",
        "    \"\"\"\n",
        "    ds = create_ds(values[:n_to_predict], labels[:n_to_predict] , n_to_predict)\n",
        "    \n",
        "    batch = next(iter(ds))\n",
        "    # lấy phổ và text của phổ đó\n",
        "    source = batch[\"source\"]\n",
        "    target = batch[\"target\"].numpy()\n",
        "    bs = tf.shape(source)[0]\n",
        "\n",
        "    idx_to_char = vectorizer.get_vocabulary()\n",
        "\n",
        "    target_start_token_idx = 10\n",
        "    target_end_token_idx = 11\n",
        "    # dự doán dữ liệu truyền vào\n",
        "    preds = model.generate(source, target_start_token_idx)\n",
        "    preds = preds.numpy()\n",
        "\n",
        "    for i in range(bs):\n",
        "        target_text = \"\".join([idx_to_char[_] for _ in target[i, :]])\n",
        "        prediction = \"\"\n",
        "        #chuyển vector từ thành câu hoàn chỉnh\n",
        "        for idx in preds[i, :]:\n",
        "            prediction += idx_to_char[idx]\n",
        "            if idx == target_end_token_idx:\n",
        "                break\n",
        "        show_from_sub_img(source[i]) # bản chất nó sẽ là màu trắng đen nhưng do plt hiển thị màu là RGB khác với cv2 là BGR nên sẽ có sự sai lệch màu ở góc độ người nhìn\n",
        "        print(f\"target:     {target_text.replace('-','')}\")\n",
        "        print(f\"prediction: {prediction}\")\n",
        "        print(f\"Bleu Score: {bleu_score(prediction, target_text.replace('-',''))}\")\n",
        "        print(f\"Word Error Rate: {wer(prediction, target_text.replace('-',''))}\\n\")\n",
        "\n",
        "predict(train_values, train_labels, 10)"
      ]
    },
    {
      "cell_type": "code",
      "execution_count": 47,
      "metadata": {},
      "outputs": [
        {
          "data": {
            "image/png": "[encoded data removed]",
            "text/plain": [
              "<Figure size 432x288 with 1 Axes>"
            ]
          },
          "metadata": {
            "needs_background": "light"
          },
          "output_type": "display_data"
        },
        {
          "name": "stdout",
          "output_type": "stream",
          "text": [
            "target:     <số 10, đường lý văn lâm, phường 1, thành phố cà mau, cà mau>\n",
            "prediction: <193 nguyễn đình chính, phường 11, quận phú nhuận, tp hồ chí minh>\n",
            "Bleu Score: 0.2982797722714565\n",
            "Word Error Rate: 1.0\n",
            "\n"
          ]
        },
        {
          "data": {
            "image/png": "[encoded data removed]",
            "text/plain": [
              "<Figure size 432x288 with 1 Axes>"
            ]
          },
          "metadata": {
            "needs_background": "light"
          },
          "output_type": "display_data"
        },
        {
          "name": "stdout",
          "output_type": "stream",
          "text": [
            "target:     <271 huỳnh ngọc huệ, phường hoà khê, quận thanh khê, đà nẵng>\n",
            "prediction: <số 199 đường quang trung, phường 13, thành phố đồng hới, quảng bình>\n",
            "Bleu Score: 0.3333333333333333\n",
            "Word Error Rate: 1.0\n",
            "\n"
          ]
        },
        {
          "data": {
            "image/png": "[encoded data removed]",
            "text/plain": [
              "<Figure size 432x288 with 1 Axes>"
            ]
          },
          "metadata": {
            "needs_background": "light"
          },
          "output_type": "display_data"
        },
        {
          "name": "stdout",
          "output_type": "stream",
          "text": [
            "target:     <số 35/70b, kp 9, phường hố nai, thành phố biên hoà, đồng nai>\n",
            "prediction: <tổ 13, thị trấn hoàn mỹ, huyện đam lâm, hà nội>\n",
            "Bleu Score: 0.25907159943137514\n",
            "Word Error Rate: 1.0\n",
            "\n"
          ]
        },
        {
          "name": "stderr",
          "output_type": "stream",
          "text": [
            "c:\\Users\\hungu\\AppData\\Local\\Programs\\Python\\Python39\\lib\\site-packages\\nltk\\translate\\bleu_score.py:552: UserWarning: \n",
            "The hypothesis contains 0 counts of 2-gram overlaps.\n",
            "Therefore the BLEU score evaluates to 0, independently of\n",
            "how many N-gram overlaps of lower order it contains.\n",
            "Consider using lower n-gram order or use SmoothingFunction()\n",
            "  warnings.warn(_msg)\n"
          ]
        },
        {
          "data": {
            "image/png": "[encoded data removed]",
            "text/plain": [
              "<Figure size 432x288 with 1 Axes>"
            ]
          },
          "metadata": {
            "needs_background": "light"
          },
          "output_type": "display_data"
        },
        {
          "name": "stdout",
          "output_type": "stream",
          "text": [
            "target:     <số 187, tổ 8, ấp tân hòa, xã tân tiến, huyện bù đốp, bình phước>\n",
            "prediction: <số 96 đường lê hồng phong, phường hà cầu, quận hà đông, hà nội>\n",
            "Bleu Score: 0.26966515756532683\n",
            "Word Error Rate: 0.9333333373069763\n",
            "\n"
          ]
        },
        {
          "data": {
            "image/png": "[encoded data removed]",
            "text/plain": [
              "<Figure size 432x288 with 1 Axes>"
            ]
          },
          "metadata": {
            "needs_background": "light"
          },
          "output_type": "display_data"
        },
        {
          "name": "stdout",
          "output_type": "stream",
          "text": [
            "target:     <số 47, tổ 2d, khu 1, phường gia cẩm, thành phố việt trì, phú thọ>\n",
            "prediction: <tổ 15, thôn thọ hoà, xã thạnh hưng, huyện thạch thành, tây ninh>\n",
            "Bleu Score: 0.4044977363479903\n",
            "Word Error Rate: 1.0\n",
            "\n"
          ]
        },
        {
          "data": {
            "image/png": "[encoded data removed]",
            "text/plain": [
              "<Figure size 432x288 with 1 Axes>"
            ]
          },
          "metadata": {
            "needs_background": "light"
          },
          "output_type": "display_data"
        },
        {
          "name": "stdout",
          "output_type": "stream",
          "text": [
            "target:     <thôn cầu đen, xã thanh xuân, huyện sóc sơn, hà nội>\n",
            "prediction: <thôn tân xuyên, xã tân xuân, huyện tân yên, bắc giang>\n",
            "Bleu Score: 0.5625\n",
            "Word Error Rate: 0.6363636255264282\n",
            "\n"
          ]
        },
        {
          "data": {
            "image/png": "[encoded data removed]",
            "text/plain": [
              "<Figure size 432x288 with 1 Axes>"
            ]
          },
          "metadata": {
            "needs_background": "light"
          },
          "output_type": "display_data"
        },
        {
          "name": "stdout",
          "output_type": "stream",
          "text": [
            "target:     <35 ni sư huỳnh liên, phường 10, quận tân bình, tp hồ chí minh>\n",
            "prediction: <197 đường 3/1, phường 11, thành phố vũng tàu, bà rịa - vũng tàu>\n",
            "Bleu Score: 0.3157894736842105\n",
            "Word Error Rate: 1.0\n",
            "\n"
          ]
        },
        {
          "data": {
            "image/png": "[encoded data removed]",
            "text/plain": [
              "<Figure size 432x288 with 1 Axes>"
            ]
          },
          "metadata": {
            "needs_background": "light"
          },
          "output_type": "display_data"
        },
        {
          "name": "stdout",
          "output_type": "stream",
          "text": [
            "target:     <số 33 trần cao vân, phường ngọc trạo, thành phố thanh hoá, thanh hoá>\n",
            "prediction: <thôn thánh hưng, xã thánh hòa, huyện lộc nghà, quảng nam>\n",
            "Bleu Score: 0.25907159943137514\n",
            "Word Error Rate: 1.0\n",
            "\n"
          ]
        },
        {
          "data": {
            "image/png": "[encoded data removed]",
            "text/plain": [
              "<Figure size 432x288 with 1 Axes>"
            ]
          },
          "metadata": {
            "needs_background": "light"
          },
          "output_type": "display_data"
        },
        {
          "name": "stdout",
          "output_type": "stream",
          "text": [
            "target:     <số 99 phố yên phúc, phường phúc la, quận hà đông, hà nội>\n",
            "prediction: <thôn tiền phong, xã hải hòa, huyện tân lập, ninh thuận>\n",
            "Bleu Score: 0.27578028205768607\n",
            "Word Error Rate: 1.0\n",
            "\n"
          ]
        },
        {
          "data": {
            "image/png": "[encoded data removed]",
            "text/plain": [
              "<Figure size 432x288 with 1 Axes>"
            ]
          },
          "metadata": {
            "needs_background": "light"
          },
          "output_type": "display_data"
        },
        {
          "name": "stdout",
          "output_type": "stream",
          "text": [
            "target:     <số 12, ngõ 11, phố thái hà, phường trung liệt, quận đống đa, hà nội>\n",
            "prediction: <số 79 trần phú, phường mỹ an, thành phố hội an, quảng ngãi>\n",
            "Bleu Score: 0.35588329018524795\n",
            "Word Error Rate: 0.9333333373069763\n",
            "\n"
          ]
        }
      ],
      "source": [
        "predict(test_values, test_labels, 10)"
      ]
    },
    {
      "cell_type": "code",
      "execution_count": null,
      "metadata": {
        "id": "pGnVbzz_Kpwv"
      },
      "outputs": [],
      "source": []
    }
  ],
  "metadata": {
    "accelerator": "GPU",
    "colab": {
      "provenance": []
    },
    "gpuClass": "standard",
    "kernelspec": {
      "display_name": "Python 3.9.12 64-bit",
      "language": "python",
      "name": "python3"
    },
    "language_info": {
      "codemirror_mode": {
        "name": "ipython",
        "version": 3
      },
      "file_extension": ".py",
      "mimetype": "text/x-python",
      "name": "python",
      "nbconvert_exporter": "python",
      "pygments_lexer": "ipython3",
      "version": "3.9.12"
    },
    "vscode": {
      "interpreter": {
        "hash": "ed7223ba540bd3a81e7847459b2696e9b61c5256178b545cec421c504a937c41"
      }
    }
  },
  "nbformat": 4,
  "nbformat_minor": 0
}
